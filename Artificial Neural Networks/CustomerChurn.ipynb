{
  "nbformat": 4,
  "nbformat_minor": 0,
  "metadata": {
    "colab": {
      "provenance": []
    },
    "kernelspec": {
      "name": "python3",
      "display_name": "Python 3"
    },
    "language_info": {
      "name": "python"
    }
  },
  "cells": [
    {
      "cell_type": "code",
      "execution_count": null,
      "metadata": {
        "id": "2z_V-691tB11"
      },
      "outputs": [],
      "source": [
        "# pip install theano"
      ]
    },
    {
      "cell_type": "code",
      "source": [
        "# pip install tensorflow"
      ],
      "metadata": {
        "id": "rdh4SPJvtKK3"
      },
      "execution_count": null,
      "outputs": []
    },
    {
      "cell_type": "code",
      "source": [
        "# pip install keras"
      ],
      "metadata": {
        "id": "lFzCBQSBtSPX"
      },
      "execution_count": null,
      "outputs": []
    },
    {
      "cell_type": "markdown",
      "source": [
        "#Data Preprocessing"
      ],
      "metadata": {
        "id": "NLqPMbGJCssD"
      }
    },
    {
      "cell_type": "code",
      "source": [
        "import numpy as np\n",
        "import pandas as pd\n",
        "import matplotlib.pyplot as plt"
      ],
      "metadata": {
        "id": "XQoon8p-tVQI"
      },
      "execution_count": null,
      "outputs": []
    },
    {
      "cell_type": "code",
      "source": [
        "df=pd.read_csv(\"Churn_Modelling.csv\")\n",
        "df.head()"
      ],
      "metadata": {
        "colab": {
          "base_uri": "https://localhost:8080/",
          "height": 270
        },
        "id": "OhFF9YZi6OaT",
        "outputId": "32262449-ee4a-4517-a92b-52b02d1d3719"
      },
      "execution_count": null,
      "outputs": [
        {
          "output_type": "execute_result",
          "data": {
            "text/plain": [
              "   RowNumber  CustomerId   Surname  CreditScore Geography  Gender  Age  \\\n",
              "0          1    15634602  Hargrave          619    France  Female   42   \n",
              "1          2    15647311      Hill          608     Spain  Female   41   \n",
              "2          3    15619304      Onio          502    France  Female   42   \n",
              "3          4    15701354      Boni          699    France  Female   39   \n",
              "4          5    15737888  Mitchell          850     Spain  Female   43   \n",
              "\n",
              "   Tenure    Balance  NumOfProducts  HasCrCard  IsActiveMember  \\\n",
              "0       2       0.00              1          1               1   \n",
              "1       1   83807.86              1          0               1   \n",
              "2       8  159660.80              3          1               0   \n",
              "3       1       0.00              2          0               0   \n",
              "4       2  125510.82              1          1               1   \n",
              "\n",
              "   EstimatedSalary  Exited  \n",
              "0        101348.88       1  \n",
              "1        112542.58       0  \n",
              "2        113931.57       1  \n",
              "3         93826.63       0  \n",
              "4         79084.10       0  "
            ],
            "text/html": [
              "\n",
              "  <div id=\"df-e3137fb8-0baa-4043-82b7-4e8b88a85a23\">\n",
              "    <div class=\"colab-df-container\">\n",
              "      <div>\n",
              "<style scoped>\n",
              "    .dataframe tbody tr th:only-of-type {\n",
              "        vertical-align: middle;\n",
              "    }\n",
              "\n",
              "    .dataframe tbody tr th {\n",
              "        vertical-align: top;\n",
              "    }\n",
              "\n",
              "    .dataframe thead th {\n",
              "        text-align: right;\n",
              "    }\n",
              "</style>\n",
              "<table border=\"1\" class=\"dataframe\">\n",
              "  <thead>\n",
              "    <tr style=\"text-align: right;\">\n",
              "      <th></th>\n",
              "      <th>RowNumber</th>\n",
              "      <th>CustomerId</th>\n",
              "      <th>Surname</th>\n",
              "      <th>CreditScore</th>\n",
              "      <th>Geography</th>\n",
              "      <th>Gender</th>\n",
              "      <th>Age</th>\n",
              "      <th>Tenure</th>\n",
              "      <th>Balance</th>\n",
              "      <th>NumOfProducts</th>\n",
              "      <th>HasCrCard</th>\n",
              "      <th>IsActiveMember</th>\n",
              "      <th>EstimatedSalary</th>\n",
              "      <th>Exited</th>\n",
              "    </tr>\n",
              "  </thead>\n",
              "  <tbody>\n",
              "    <tr>\n",
              "      <th>0</th>\n",
              "      <td>1</td>\n",
              "      <td>15634602</td>\n",
              "      <td>Hargrave</td>\n",
              "      <td>619</td>\n",
              "      <td>France</td>\n",
              "      <td>Female</td>\n",
              "      <td>42</td>\n",
              "      <td>2</td>\n",
              "      <td>0.00</td>\n",
              "      <td>1</td>\n",
              "      <td>1</td>\n",
              "      <td>1</td>\n",
              "      <td>101348.88</td>\n",
              "      <td>1</td>\n",
              "    </tr>\n",
              "    <tr>\n",
              "      <th>1</th>\n",
              "      <td>2</td>\n",
              "      <td>15647311</td>\n",
              "      <td>Hill</td>\n",
              "      <td>608</td>\n",
              "      <td>Spain</td>\n",
              "      <td>Female</td>\n",
              "      <td>41</td>\n",
              "      <td>1</td>\n",
              "      <td>83807.86</td>\n",
              "      <td>1</td>\n",
              "      <td>0</td>\n",
              "      <td>1</td>\n",
              "      <td>112542.58</td>\n",
              "      <td>0</td>\n",
              "    </tr>\n",
              "    <tr>\n",
              "      <th>2</th>\n",
              "      <td>3</td>\n",
              "      <td>15619304</td>\n",
              "      <td>Onio</td>\n",
              "      <td>502</td>\n",
              "      <td>France</td>\n",
              "      <td>Female</td>\n",
              "      <td>42</td>\n",
              "      <td>8</td>\n",
              "      <td>159660.80</td>\n",
              "      <td>3</td>\n",
              "      <td>1</td>\n",
              "      <td>0</td>\n",
              "      <td>113931.57</td>\n",
              "      <td>1</td>\n",
              "    </tr>\n",
              "    <tr>\n",
              "      <th>3</th>\n",
              "      <td>4</td>\n",
              "      <td>15701354</td>\n",
              "      <td>Boni</td>\n",
              "      <td>699</td>\n",
              "      <td>France</td>\n",
              "      <td>Female</td>\n",
              "      <td>39</td>\n",
              "      <td>1</td>\n",
              "      <td>0.00</td>\n",
              "      <td>2</td>\n",
              "      <td>0</td>\n",
              "      <td>0</td>\n",
              "      <td>93826.63</td>\n",
              "      <td>0</td>\n",
              "    </tr>\n",
              "    <tr>\n",
              "      <th>4</th>\n",
              "      <td>5</td>\n",
              "      <td>15737888</td>\n",
              "      <td>Mitchell</td>\n",
              "      <td>850</td>\n",
              "      <td>Spain</td>\n",
              "      <td>Female</td>\n",
              "      <td>43</td>\n",
              "      <td>2</td>\n",
              "      <td>125510.82</td>\n",
              "      <td>1</td>\n",
              "      <td>1</td>\n",
              "      <td>1</td>\n",
              "      <td>79084.10</td>\n",
              "      <td>0</td>\n",
              "    </tr>\n",
              "  </tbody>\n",
              "</table>\n",
              "</div>\n",
              "      <button class=\"colab-df-convert\" onclick=\"convertToInteractive('df-e3137fb8-0baa-4043-82b7-4e8b88a85a23')\"\n",
              "              title=\"Convert this dataframe to an interactive table.\"\n",
              "              style=\"display:none;\">\n",
              "        \n",
              "  <svg xmlns=\"http://www.w3.org/2000/svg\" height=\"24px\"viewBox=\"0 0 24 24\"\n",
              "       width=\"24px\">\n",
              "    <path d=\"M0 0h24v24H0V0z\" fill=\"none\"/>\n",
              "    <path d=\"M18.56 5.44l.94 2.06.94-2.06 2.06-.94-2.06-.94-.94-2.06-.94 2.06-2.06.94zm-11 1L8.5 8.5l.94-2.06 2.06-.94-2.06-.94L8.5 2.5l-.94 2.06-2.06.94zm10 10l.94 2.06.94-2.06 2.06-.94-2.06-.94-.94-2.06-.94 2.06-2.06.94z\"/><path d=\"M17.41 7.96l-1.37-1.37c-.4-.4-.92-.59-1.43-.59-.52 0-1.04.2-1.43.59L10.3 9.45l-7.72 7.72c-.78.78-.78 2.05 0 2.83L4 21.41c.39.39.9.59 1.41.59.51 0 1.02-.2 1.41-.59l7.78-7.78 2.81-2.81c.8-.78.8-2.07 0-2.86zM5.41 20L4 18.59l7.72-7.72 1.47 1.35L5.41 20z\"/>\n",
              "  </svg>\n",
              "      </button>\n",
              "      \n",
              "  <style>\n",
              "    .colab-df-container {\n",
              "      display:flex;\n",
              "      flex-wrap:wrap;\n",
              "      gap: 12px;\n",
              "    }\n",
              "\n",
              "    .colab-df-convert {\n",
              "      background-color: #E8F0FE;\n",
              "      border: none;\n",
              "      border-radius: 50%;\n",
              "      cursor: pointer;\n",
              "      display: none;\n",
              "      fill: #1967D2;\n",
              "      height: 32px;\n",
              "      padding: 0 0 0 0;\n",
              "      width: 32px;\n",
              "    }\n",
              "\n",
              "    .colab-df-convert:hover {\n",
              "      background-color: #E2EBFA;\n",
              "      box-shadow: 0px 1px 2px rgba(60, 64, 67, 0.3), 0px 1px 3px 1px rgba(60, 64, 67, 0.15);\n",
              "      fill: #174EA6;\n",
              "    }\n",
              "\n",
              "    [theme=dark] .colab-df-convert {\n",
              "      background-color: #3B4455;\n",
              "      fill: #D2E3FC;\n",
              "    }\n",
              "\n",
              "    [theme=dark] .colab-df-convert:hover {\n",
              "      background-color: #434B5C;\n",
              "      box-shadow: 0px 1px 3px 1px rgba(0, 0, 0, 0.15);\n",
              "      filter: drop-shadow(0px 1px 2px rgba(0, 0, 0, 0.3));\n",
              "      fill: #FFFFFF;\n",
              "    }\n",
              "  </style>\n",
              "\n",
              "      <script>\n",
              "        const buttonEl =\n",
              "          document.querySelector('#df-e3137fb8-0baa-4043-82b7-4e8b88a85a23 button.colab-df-convert');\n",
              "        buttonEl.style.display =\n",
              "          google.colab.kernel.accessAllowed ? 'block' : 'none';\n",
              "\n",
              "        async function convertToInteractive(key) {\n",
              "          const element = document.querySelector('#df-e3137fb8-0baa-4043-82b7-4e8b88a85a23');\n",
              "          const dataTable =\n",
              "            await google.colab.kernel.invokeFunction('convertToInteractive',\n",
              "                                                     [key], {});\n",
              "          if (!dataTable) return;\n",
              "\n",
              "          const docLinkHtml = 'Like what you see? Visit the ' +\n",
              "            '<a target=\"_blank\" href=https://colab.research.google.com/notebooks/data_table.ipynb>data table notebook</a>'\n",
              "            + ' to learn more about interactive tables.';\n",
              "          element.innerHTML = '';\n",
              "          dataTable['output_type'] = 'display_data';\n",
              "          await google.colab.output.renderOutput(dataTable, element);\n",
              "          const docLink = document.createElement('div');\n",
              "          docLink.innerHTML = docLinkHtml;\n",
              "          element.appendChild(docLink);\n",
              "        }\n",
              "      </script>\n",
              "    </div>\n",
              "  </div>\n",
              "  "
            ]
          },
          "metadata": {},
          "execution_count": 5
        }
      ]
    },
    {
      "cell_type": "code",
      "source": [
        "x=df.iloc[:,3:13].values\n",
        "y=df.iloc[:,13].values\n",
        "print(x)\n",
        "print(y)"
      ],
      "metadata": {
        "colab": {
          "base_uri": "https://localhost:8080/"
        },
        "id": "7Zme3ulE6Vx2",
        "outputId": "06f154af-45d4-4fd9-8cf9-9a0567fdc130"
      },
      "execution_count": null,
      "outputs": [
        {
          "output_type": "stream",
          "name": "stdout",
          "text": [
            "[[619 'France' 'Female' ... 1 1 101348.88]\n",
            " [608 'Spain' 'Female' ... 0 1 112542.58]\n",
            " [502 'France' 'Female' ... 1 0 113931.57]\n",
            " ...\n",
            " [709 'France' 'Female' ... 0 1 42085.58]\n",
            " [772 'Germany' 'Male' ... 1 0 92888.52]\n",
            " [792 'France' 'Female' ... 1 0 38190.78]]\n",
            "[1 0 1 ... 1 1 0]\n"
          ]
        }
      ]
    },
    {
      "cell_type": "code",
      "source": [
        "from sklearn.preprocessing import LabelEncoder, OneHotEncoder\n",
        "from sklearn.compose import ColumnTransformer\n",
        "\n",
        "# Country column\n",
        "ct = ColumnTransformer([(\"Country\", OneHotEncoder(), [1])], remainder = 'passthrough')\n",
        "x = ct.fit_transform(x)\n",
        "\n",
        "# Male/Female\n",
        "labelencoder_X = LabelEncoder()\n",
        "x[:, 4] = labelencoder_X.fit_transform(x[:, 4])\n",
        "print(x)"
      ],
      "metadata": {
        "colab": {
          "base_uri": "https://localhost:8080/"
        },
        "id": "FrVbXCgw6suG",
        "outputId": "307e7f93-6d9c-462e-d45e-bdd80f731ff5"
      },
      "execution_count": null,
      "outputs": [
        {
          "output_type": "stream",
          "name": "stdout",
          "text": [
            "[[1.0 0.0 0.0 ... 1 1 101348.88]\n",
            " [0.0 0.0 1.0 ... 0 1 112542.58]\n",
            " [1.0 0.0 0.0 ... 1 0 113931.57]\n",
            " ...\n",
            " [1.0 0.0 0.0 ... 0 1 42085.58]\n",
            " [0.0 1.0 0.0 ... 1 0 92888.52]\n",
            " [1.0 0.0 0.0 ... 1 0 38190.78]]\n"
          ]
        }
      ]
    },
    {
      "cell_type": "code",
      "source": [
        "print(x[0])"
      ],
      "metadata": {
        "colab": {
          "base_uri": "https://localhost:8080/"
        },
        "id": "4G783VB8T9vx",
        "outputId": "cfb7ca4a-169f-4440-a421-32baf4feaeef"
      },
      "execution_count": null,
      "outputs": [
        {
          "output_type": "stream",
          "name": "stdout",
          "text": [
            "[1.0 0.0 0.0 619 0 42 2 0.0 1 1 1 101348.88]\n"
          ]
        }
      ]
    },
    {
      "cell_type": "code",
      "source": [
        "#splitting the dataset\n",
        "from sklearn.model_selection import train_test_split\n",
        "X_train,X_test,y_train,y_test=train_test_split(x,y,test_size=0.2,random_state=0)"
      ],
      "metadata": {
        "id": "c10goGf69Q2h"
      },
      "execution_count": null,
      "outputs": []
    },
    {
      "cell_type": "code",
      "source": [
        "#feature scaling\n",
        "from sklearn.preprocessing import StandardScaler\n",
        "sc=StandardScaler()\n",
        "X_train=sc.fit_transform(X_train)\n",
        "X_test=sc.fit_transform(X_test)\n",
        "print(X_train)\n",
        "print(X_test)"
      ],
      "metadata": {
        "colab": {
          "base_uri": "https://localhost:8080/"
        },
        "id": "SuNA3ruf_NUT",
        "outputId": "1583a525-f093-4e5f-dec6-93fbb6426f15"
      },
      "execution_count": null,
      "outputs": [
        {
          "output_type": "stream",
          "name": "stdout",
          "text": [
            "[[-1.01460667 -0.5698444   1.74309049 ...  0.64259497 -1.03227043\n",
            "   1.10643166]\n",
            " [-1.01460667  1.75486502 -0.57369368 ...  0.64259497  0.9687384\n",
            "  -0.74866447]\n",
            " [ 0.98560362 -0.5698444  -0.57369368 ...  0.64259497 -1.03227043\n",
            "   1.48533467]\n",
            " ...\n",
            " [ 0.98560362 -0.5698444  -0.57369368 ...  0.64259497 -1.03227043\n",
            "   1.41231994]\n",
            " [-1.01460667 -0.5698444   1.74309049 ...  0.64259497  0.9687384\n",
            "   0.84432121]\n",
            " [-1.01460667  1.75486502 -0.57369368 ...  0.64259497 -1.03227043\n",
            "   0.32472465]]\n",
            "[[-0.95692675  1.62776996 -0.57427105 ...  0.66011376  0.97628121\n",
            "   1.62185911]\n",
            " [ 1.04501206 -0.61433742 -0.57427105 ...  0.66011376 -1.02429504\n",
            "   0.504204  ]\n",
            " [-0.95692675 -0.61433742  1.74133801 ...  0.66011376  0.97628121\n",
            "  -0.41865644]\n",
            " ...\n",
            " [-0.95692675 -0.61433742  1.74133801 ...  0.66011376 -1.02429504\n",
            "   0.72775202]\n",
            " [-0.95692675  1.62776996 -0.57427105 ...  0.66011376  0.97628121\n",
            "  -1.54162886]\n",
            " [-0.95692675  1.62776996 -0.57427105 ...  0.66011376 -1.02429504\n",
            "   1.62356528]]\n"
          ]
        }
      ]
    },
    {
      "cell_type": "markdown",
      "source": [
        "#Building ANN"
      ],
      "metadata": {
        "id": "Mo14um_tCzmc"
      }
    },
    {
      "cell_type": "code",
      "source": [
        "import keras\n",
        "from keras.models import Sequential\n",
        "from keras.layers import Dense\n",
        "from keras.layers import Dropout"
      ],
      "metadata": {
        "id": "DPYInSNzC16S"
      },
      "execution_count": null,
      "outputs": []
    },
    {
      "cell_type": "code",
      "source": [
        "X_train.shape"
      ],
      "metadata": {
        "colab": {
          "base_uri": "https://localhost:8080/"
        },
        "id": "PmnVHa1uEPK6",
        "outputId": "158f79e0-0427-4db7-e5a2-65df7fe160fe"
      },
      "execution_count": null,
      "outputs": [
        {
          "output_type": "execute_result",
          "data": {
            "text/plain": [
              "(8000, 12)"
            ]
          },
          "metadata": {},
          "execution_count": 31
        }
      ]
    },
    {
      "cell_type": "code",
      "source": [
        "classifier=Sequential()"
      ],
      "metadata": {
        "id": "LBsOeAEoC3TQ"
      },
      "execution_count": null,
      "outputs": []
    },
    {
      "cell_type": "code",
      "source": [
        "#input and hidden layers with dropout layer\n",
        "classifier.add(Dense(units=6, activation='relu',input_dim=12))\n",
        "classifier.add(Dropout(rate=0.1))"
      ],
      "metadata": {
        "id": "edBa24MIE9mc"
      },
      "execution_count": null,
      "outputs": []
    },
    {
      "cell_type": "code",
      "source": [
        "classifier.add(Dense(units=6, activation='relu'))\n",
        "classifier.add(Dropout(rate=0.1))"
      ],
      "metadata": {
        "id": "SG2NWLmBHl44"
      },
      "execution_count": null,
      "outputs": []
    },
    {
      "cell_type": "code",
      "source": [
        "classifier.add(Dense(units=1, activation='sigmoid'))"
      ],
      "metadata": {
        "id": "cLvI6YAQLiZV"
      },
      "execution_count": null,
      "outputs": []
    },
    {
      "cell_type": "code",
      "source": [
        "#Compiling ANN\n",
        "classifier.compile(optimizer='adam',loss='binary_crossentropy',metrics=['accuracy'])"
      ],
      "metadata": {
        "id": "dcXZCqT-MdZd"
      },
      "execution_count": null,
      "outputs": []
    },
    {
      "cell_type": "code",
      "source": [
        "#Fitting ANN to training set\n",
        "classifier.fit(X_train,y_train,batch_size=10,epochs=100)"
      ],
      "metadata": {
        "colab": {
          "base_uri": "https://localhost:8080/"
        },
        "id": "zMkyHzQuOP5n",
        "outputId": "60bd5e55-a2c7-48e9-968f-70c88e777708"
      },
      "execution_count": null,
      "outputs": [
        {
          "output_type": "stream",
          "name": "stdout",
          "text": [
            "Epoch 1/100\n",
            "800/800 [==============================] - 2s 2ms/step - loss: 0.4857 - accuracy: 0.7960\n",
            "Epoch 2/100\n",
            "800/800 [==============================] - 2s 2ms/step - loss: 0.4514 - accuracy: 0.7960\n",
            "Epoch 3/100\n",
            "800/800 [==============================] - 2s 2ms/step - loss: 0.4397 - accuracy: 0.7959\n",
            "Epoch 4/100\n",
            "800/800 [==============================] - 2s 2ms/step - loss: 0.4278 - accuracy: 0.8029\n",
            "Epoch 5/100\n",
            "800/800 [==============================] - 2s 3ms/step - loss: 0.4176 - accuracy: 0.8174\n",
            "Epoch 6/100\n",
            "800/800 [==============================] - 1s 2ms/step - loss: 0.4057 - accuracy: 0.8185\n",
            "Epoch 7/100\n",
            "800/800 [==============================] - 1s 2ms/step - loss: 0.3962 - accuracy: 0.8215\n",
            "Epoch 8/100\n",
            "800/800 [==============================] - 1s 2ms/step - loss: 0.3926 - accuracy: 0.8344\n",
            "Epoch 9/100\n",
            "800/800 [==============================] - 1s 2ms/step - loss: 0.3842 - accuracy: 0.8416\n",
            "Epoch 10/100\n",
            "800/800 [==============================] - 1s 2ms/step - loss: 0.3848 - accuracy: 0.8459\n",
            "Epoch 11/100\n",
            "800/800 [==============================] - 2s 2ms/step - loss: 0.3786 - accuracy: 0.8454\n",
            "Epoch 12/100\n",
            "800/800 [==============================] - 2s 2ms/step - loss: 0.3779 - accuracy: 0.8455\n",
            "Epoch 13/100\n",
            "800/800 [==============================] - 2s 3ms/step - loss: 0.3792 - accuracy: 0.8474\n",
            "Epoch 14/100\n",
            "800/800 [==============================] - 1s 2ms/step - loss: 0.3721 - accuracy: 0.8484\n",
            "Epoch 15/100\n",
            "800/800 [==============================] - 1s 2ms/step - loss: 0.3744 - accuracy: 0.8466\n",
            "Epoch 16/100\n",
            "800/800 [==============================] - 1s 2ms/step - loss: 0.3691 - accuracy: 0.8481\n",
            "Epoch 17/100\n",
            "800/800 [==============================] - 1s 2ms/step - loss: 0.3695 - accuracy: 0.8493\n",
            "Epoch 18/100\n",
            "800/800 [==============================] - 1s 2ms/step - loss: 0.3726 - accuracy: 0.8471\n",
            "Epoch 19/100\n",
            "800/800 [==============================] - 1s 2ms/step - loss: 0.3688 - accuracy: 0.8501\n",
            "Epoch 20/100\n",
            "800/800 [==============================] - 2s 2ms/step - loss: 0.3690 - accuracy: 0.8486\n",
            "Epoch 21/100\n",
            "800/800 [==============================] - 2s 3ms/step - loss: 0.3629 - accuracy: 0.8514\n",
            "Epoch 22/100\n",
            "800/800 [==============================] - 2s 2ms/step - loss: 0.3656 - accuracy: 0.8509\n",
            "Epoch 23/100\n",
            "800/800 [==============================] - 2s 2ms/step - loss: 0.3660 - accuracy: 0.8480\n",
            "Epoch 24/100\n",
            "800/800 [==============================] - 2s 2ms/step - loss: 0.3654 - accuracy: 0.8499\n",
            "Epoch 25/100\n",
            "800/800 [==============================] - 2s 2ms/step - loss: 0.3617 - accuracy: 0.8526\n",
            "Epoch 26/100\n",
            "800/800 [==============================] - 2s 2ms/step - loss: 0.3646 - accuracy: 0.8544\n",
            "Epoch 27/100\n",
            "800/800 [==============================] - 2s 2ms/step - loss: 0.3601 - accuracy: 0.8528\n",
            "Epoch 28/100\n",
            "800/800 [==============================] - 2s 2ms/step - loss: 0.3633 - accuracy: 0.8562\n",
            "Epoch 29/100\n",
            "800/800 [==============================] - 2s 3ms/step - loss: 0.3609 - accuracy: 0.8580\n",
            "Epoch 30/100\n",
            "800/800 [==============================] - 2s 2ms/step - loss: 0.3613 - accuracy: 0.8534\n",
            "Epoch 31/100\n",
            "800/800 [==============================] - 2s 2ms/step - loss: 0.3602 - accuracy: 0.8540\n",
            "Epoch 32/100\n",
            "800/800 [==============================] - 2s 2ms/step - loss: 0.3578 - accuracy: 0.8575\n",
            "Epoch 33/100\n",
            "800/800 [==============================] - 2s 2ms/step - loss: 0.3613 - accuracy: 0.8535\n",
            "Epoch 34/100\n",
            "800/800 [==============================] - 2s 2ms/step - loss: 0.3583 - accuracy: 0.8587\n",
            "Epoch 35/100\n",
            "800/800 [==============================] - 2s 2ms/step - loss: 0.3565 - accuracy: 0.8568\n",
            "Epoch 36/100\n",
            "800/800 [==============================] - 2s 2ms/step - loss: 0.3570 - accuracy: 0.8555\n",
            "Epoch 37/100\n",
            "800/800 [==============================] - 2s 3ms/step - loss: 0.3553 - accuracy: 0.8576\n",
            "Epoch 38/100\n",
            "800/800 [==============================] - 2s 2ms/step - loss: 0.3574 - accuracy: 0.8589\n",
            "Epoch 39/100\n",
            "800/800 [==============================] - 1s 2ms/step - loss: 0.3581 - accuracy: 0.8581\n",
            "Epoch 40/100\n",
            "800/800 [==============================] - 2s 2ms/step - loss: 0.3564 - accuracy: 0.8561\n",
            "Epoch 41/100\n",
            "800/800 [==============================] - 2s 2ms/step - loss: 0.3573 - accuracy: 0.8577\n",
            "Epoch 42/100\n",
            "800/800 [==============================] - 2s 2ms/step - loss: 0.3552 - accuracy: 0.8585\n",
            "Epoch 43/100\n",
            "800/800 [==============================] - 2s 2ms/step - loss: 0.3562 - accuracy: 0.8541\n",
            "Epoch 44/100\n",
            "800/800 [==============================] - 2s 3ms/step - loss: 0.3547 - accuracy: 0.8596\n",
            "Epoch 45/100\n",
            "800/800 [==============================] - 2s 2ms/step - loss: 0.3530 - accuracy: 0.8594\n",
            "Epoch 46/100\n",
            "800/800 [==============================] - 2s 2ms/step - loss: 0.3581 - accuracy: 0.8556\n",
            "Epoch 47/100\n",
            "800/800 [==============================] - 2s 2ms/step - loss: 0.3530 - accuracy: 0.8572\n",
            "Epoch 48/100\n",
            "800/800 [==============================] - 2s 2ms/step - loss: 0.3535 - accuracy: 0.8575\n",
            "Epoch 49/100\n",
            "800/800 [==============================] - 2s 2ms/step - loss: 0.3536 - accuracy: 0.8590\n",
            "Epoch 50/100\n",
            "800/800 [==============================] - 1s 2ms/step - loss: 0.3538 - accuracy: 0.8587\n",
            "Epoch 51/100\n",
            "800/800 [==============================] - 2s 2ms/step - loss: 0.3533 - accuracy: 0.8561\n",
            "Epoch 52/100\n",
            "800/800 [==============================] - 2s 3ms/step - loss: 0.3547 - accuracy: 0.8566\n",
            "Epoch 53/100\n",
            "800/800 [==============================] - 2s 2ms/step - loss: 0.3518 - accuracy: 0.8577\n",
            "Epoch 54/100\n",
            "800/800 [==============================] - 2s 2ms/step - loss: 0.3549 - accuracy: 0.8556\n",
            "Epoch 55/100\n",
            "800/800 [==============================] - 2s 2ms/step - loss: 0.3554 - accuracy: 0.8545\n",
            "Epoch 56/100\n",
            "800/800 [==============================] - 2s 2ms/step - loss: 0.3530 - accuracy: 0.8575\n",
            "Epoch 57/100\n",
            "800/800 [==============================] - 2s 2ms/step - loss: 0.3550 - accuracy: 0.8577\n",
            "Epoch 58/100\n",
            "800/800 [==============================] - 2s 2ms/step - loss: 0.3564 - accuracy: 0.8590\n",
            "Epoch 59/100\n",
            "800/800 [==============================] - 2s 2ms/step - loss: 0.3539 - accuracy: 0.8602\n",
            "Epoch 60/100\n",
            "800/800 [==============================] - 2s 3ms/step - loss: 0.3520 - accuracy: 0.8575\n",
            "Epoch 61/100\n",
            "800/800 [==============================] - 2s 2ms/step - loss: 0.3506 - accuracy: 0.8559\n",
            "Epoch 62/100\n",
            "800/800 [==============================] - 2s 2ms/step - loss: 0.3512 - accuracy: 0.8569\n",
            "Epoch 63/100\n",
            "800/800 [==============================] - 2s 2ms/step - loss: 0.3499 - accuracy: 0.8627\n",
            "Epoch 64/100\n",
            "800/800 [==============================] - 2s 2ms/step - loss: 0.3520 - accuracy: 0.8593\n",
            "Epoch 65/100\n",
            "800/800 [==============================] - 1s 2ms/step - loss: 0.3513 - accuracy: 0.8610\n",
            "Epoch 66/100\n",
            "800/800 [==============================] - 2s 2ms/step - loss: 0.3524 - accuracy: 0.8599\n",
            "Epoch 67/100\n",
            "800/800 [==============================] - 2s 2ms/step - loss: 0.3515 - accuracy: 0.8577\n",
            "Epoch 68/100\n",
            "800/800 [==============================] - 2s 3ms/step - loss: 0.3527 - accuracy: 0.8568\n",
            "Epoch 69/100\n",
            "800/800 [==============================] - 2s 2ms/step - loss: 0.3497 - accuracy: 0.8574\n",
            "Epoch 70/100\n",
            "800/800 [==============================] - 2s 2ms/step - loss: 0.3563 - accuracy: 0.8551\n",
            "Epoch 71/100\n",
            "800/800 [==============================] - 1s 2ms/step - loss: 0.3518 - accuracy: 0.8566\n",
            "Epoch 72/100\n",
            "800/800 [==============================] - 2s 2ms/step - loss: 0.3503 - accuracy: 0.8577\n",
            "Epoch 73/100\n",
            "800/800 [==============================] - 2s 2ms/step - loss: 0.3529 - accuracy: 0.8593\n",
            "Epoch 74/100\n",
            "800/800 [==============================] - 2s 2ms/step - loss: 0.3526 - accuracy: 0.8585\n",
            "Epoch 75/100\n",
            "800/800 [==============================] - 2s 2ms/step - loss: 0.3504 - accuracy: 0.8596\n",
            "Epoch 76/100\n",
            "800/800 [==============================] - 2s 3ms/step - loss: 0.3513 - accuracy: 0.8570\n",
            "Epoch 77/100\n",
            "800/800 [==============================] - 2s 2ms/step - loss: 0.3525 - accuracy: 0.8566\n",
            "Epoch 78/100\n",
            "800/800 [==============================] - 2s 2ms/step - loss: 0.3481 - accuracy: 0.8605\n",
            "Epoch 79/100\n",
            "800/800 [==============================] - 1s 2ms/step - loss: 0.3509 - accuracy: 0.8614\n",
            "Epoch 80/100\n",
            "800/800 [==============================] - 2s 2ms/step - loss: 0.3500 - accuracy: 0.8594\n",
            "Epoch 81/100\n",
            "800/800 [==============================] - 2s 2ms/step - loss: 0.3520 - accuracy: 0.8571\n",
            "Epoch 82/100\n",
            "800/800 [==============================] - 2s 2ms/step - loss: 0.3486 - accuracy: 0.8602\n",
            "Epoch 83/100\n",
            "800/800 [==============================] - 2s 2ms/step - loss: 0.3526 - accuracy: 0.8580\n",
            "Epoch 84/100\n",
            "800/800 [==============================] - 2s 3ms/step - loss: 0.3520 - accuracy: 0.8590\n",
            "Epoch 85/100\n",
            "800/800 [==============================] - 2s 2ms/step - loss: 0.3489 - accuracy: 0.8599\n",
            "Epoch 86/100\n",
            "800/800 [==============================] - 2s 2ms/step - loss: 0.3530 - accuracy: 0.8572\n",
            "Epoch 87/100\n",
            "800/800 [==============================] - 2s 2ms/step - loss: 0.3472 - accuracy: 0.8604\n",
            "Epoch 88/100\n",
            "800/800 [==============================] - 2s 2ms/step - loss: 0.3539 - accuracy: 0.8574\n",
            "Epoch 89/100\n",
            "800/800 [==============================] - 2s 2ms/step - loss: 0.3506 - accuracy: 0.8575\n",
            "Epoch 90/100\n",
            "800/800 [==============================] - 2s 2ms/step - loss: 0.3498 - accuracy: 0.8587\n",
            "Epoch 91/100\n",
            "800/800 [==============================] - 2s 2ms/step - loss: 0.3521 - accuracy: 0.8581\n",
            "Epoch 92/100\n",
            "800/800 [==============================] - 2s 3ms/step - loss: 0.3497 - accuracy: 0.8580\n",
            "Epoch 93/100\n",
            "800/800 [==============================] - 2s 2ms/step - loss: 0.3465 - accuracy: 0.8593\n",
            "Epoch 94/100\n",
            "800/800 [==============================] - 2s 2ms/step - loss: 0.3485 - accuracy: 0.8580\n",
            "Epoch 95/100\n",
            "800/800 [==============================] - 2s 2ms/step - loss: 0.3488 - accuracy: 0.8591\n",
            "Epoch 96/100\n",
            "800/800 [==============================] - 2s 2ms/step - loss: 0.3499 - accuracy: 0.8589\n",
            "Epoch 97/100\n",
            "800/800 [==============================] - 2s 2ms/step - loss: 0.3501 - accuracy: 0.8574\n",
            "Epoch 98/100\n",
            "800/800 [==============================] - 2s 2ms/step - loss: 0.3456 - accuracy: 0.8596\n",
            "Epoch 99/100\n",
            "800/800 [==============================] - 2s 2ms/step - loss: 0.3480 - accuracy: 0.8604\n",
            "Epoch 100/100\n",
            "800/800 [==============================] - 2s 3ms/step - loss: 0.3508 - accuracy: 0.8614\n"
          ]
        },
        {
          "output_type": "execute_result",
          "data": {
            "text/plain": [
              "<keras.callbacks.History at 0x7f40c28994e0>"
            ]
          },
          "metadata": {},
          "execution_count": 38
        }
      ]
    },
    {
      "cell_type": "markdown",
      "source": [
        "#Making Predictions and Evaluating Model"
      ],
      "metadata": {
        "id": "MOY2e4z3Psog"
      }
    },
    {
      "cell_type": "code",
      "source": [
        "#predictions on test set\n",
        "y_pred=classifier.predict(X_test)\n",
        "y_pred"
      ],
      "metadata": {
        "colab": {
          "base_uri": "https://localhost:8080/"
        },
        "id": "L5wT0OpUPwky",
        "outputId": "12af21eb-35be-4cc2-8f3c-9db8ebe45526"
      },
      "execution_count": null,
      "outputs": [
        {
          "output_type": "stream",
          "name": "stdout",
          "text": [
            "63/63 [==============================] - 0s 1ms/step\n"
          ]
        },
        {
          "output_type": "execute_result",
          "data": {
            "text/plain": [
              "array([[0.231923  ],\n",
              "       [0.15135863],\n",
              "       [0.05976742],\n",
              "       ...,\n",
              "       [0.10494788],\n",
              "       [0.13262019],\n",
              "       [0.21185334]], dtype=float32)"
            ]
          },
          "metadata": {},
          "execution_count": 19
        }
      ]
    },
    {
      "cell_type": "code",
      "source": [
        "#setting threshold\n",
        "y_pred=(y_pred>0.5)\n",
        "y_pred\n"
      ],
      "metadata": {
        "colab": {
          "base_uri": "https://localhost:8080/"
        },
        "id": "XvrVvZV_QgNJ",
        "outputId": "a68caab6-1dca-48f5-ad10-8200db8fe551"
      },
      "execution_count": null,
      "outputs": [
        {
          "output_type": "execute_result",
          "data": {
            "text/plain": [
              "array([[False],\n",
              "       [False],\n",
              "       [False],\n",
              "       ...,\n",
              "       [False],\n",
              "       [False],\n",
              "       [False]])"
            ]
          },
          "metadata": {},
          "execution_count": 20
        }
      ]
    },
    {
      "cell_type": "code",
      "source": [
        "#making confusion matrix\n",
        "from sklearn.metrics import confusion_matrix\n",
        "cm=confusion_matrix(y_test,y_pred)\n",
        "cm"
      ],
      "metadata": {
        "colab": {
          "base_uri": "https://localhost:8080/"
        },
        "id": "TB0gBj9uRRAL",
        "outputId": "3afcbbd3-0f66-4266-eae9-eb459886de2c"
      },
      "execution_count": null,
      "outputs": [
        {
          "output_type": "execute_result",
          "data": {
            "text/plain": [
              "array([[1546,   49],\n",
              "       [ 221,  184]])"
            ]
          },
          "metadata": {},
          "execution_count": 21
        }
      ]
    },
    {
      "cell_type": "code",
      "source": [
        "#accuracy on the test set(on which the model was not trained)\n",
        "acc=(1520+209)/2000\n",
        "acc"
      ],
      "metadata": {
        "colab": {
          "base_uri": "https://localhost:8080/"
        },
        "id": "tC9yi0nXR1mp",
        "outputId": "9eb91d36-9af5-4b41-b6fd-a0f8a4de3ab7"
      },
      "execution_count": null,
      "outputs": [
        {
          "output_type": "execute_result",
          "data": {
            "text/plain": [
              "0.8645"
            ]
          },
          "metadata": {},
          "execution_count": 22
        }
      ]
    },
    {
      "cell_type": "code",
      "source": [
        "print(X_train[0])"
      ],
      "metadata": {
        "colab": {
          "base_uri": "https://localhost:8080/"
        },
        "id": "Y-h_mwOySAcJ",
        "outputId": "66514db2-9508-49a7-a7af-aa165abd7985"
      },
      "execution_count": null,
      "outputs": [
        {
          "output_type": "stream",
          "name": "stdout",
          "text": [
            "[-1.01460667 -0.5698444   1.74309049  0.16958176 -1.09168714 -0.46460796\n",
            "  0.00666099 -1.21571749  0.8095029   0.64259497 -1.03227043  1.10643166]\n"
          ]
        }
      ]
    },
    {
      "cell_type": "code",
      "source": [
        "#making prediction on a new single observation\n",
        "#France(3 vals since encoded dummy variables)\n",
        "#credit score=600\n",
        "#gender=male\n",
        "#Age=40\n",
        "#Tenure=3\n",
        "#balance=60000\n",
        "#number of products=2\n",
        "#has credit card=yes\n",
        "#is active member=yes\n",
        "#Estimated salary=50000\n",
        "new_pred=classifier.predict(sc.transform(np.array([[1.0,0.0,0.0,600,1,40,3,60000,2,1,1,50000]])))\n",
        "new_pred=(new_pred>0.5)\n",
        "print(new_pred)"
      ],
      "metadata": {
        "colab": {
          "base_uri": "https://localhost:8080/"
        },
        "id": "vS-FsVjqSyQL",
        "outputId": "6cbe0df5-9e07-4e89-faca-f91c9294b37e"
      },
      "execution_count": null,
      "outputs": [
        {
          "output_type": "stream",
          "name": "stdout",
          "text": [
            "1/1 [==============================] - 0s 22ms/step\n",
            "[[False]]\n"
          ]
        }
      ]
    },
    {
      "cell_type": "code",
      "source": [
        "#so customer is not likely to leave the bank"
      ],
      "metadata": {
        "id": "BCU8J8zEV6Px"
      },
      "execution_count": null,
      "outputs": []
    },
    {
      "cell_type": "markdown",
      "source": [
        "#Evaluating, Improving and Tuning the ANN"
      ],
      "metadata": {
        "id": "Jwfan50vY1f4"
      }
    },
    {
      "cell_type": "code",
      "source": [
        "#Evaluating the ANN\n",
        "from keras.wrappers.scikit_learn import KerasClassifier\n",
        "from sklearn.model_selection import cross_val_score\n",
        "from keras.models import Sequential\n",
        "from keras.layers import Dense\n",
        "def build_classifier():\n",
        "  classifier=Sequential()\n",
        "  classifier.add(Dense(units=6, activation='relu',input_dim=12))\n",
        "  classifier.add(Dense(units=6, activation='relu'))\n",
        "  classifier.add(Dense(units=1, activation='sigmoid'))\n",
        "  classifier.compile(optimizer='adam',loss='binary_crossentropy',metrics=['accuracy'])\n",
        "  return classifier\n",
        "\n",
        "classifier=KerasClassifier(build_fn=build_classifier,batch_size=10,epochs=100)\n",
        "accuracies=cross_val_score(estimator=classifier,X=X_train,y=y_train,cv=10,n_jobs=-1)\n"
      ],
      "metadata": {
        "colab": {
          "base_uri": "https://localhost:8080/"
        },
        "id": "p9TNkHzcY9Fo",
        "outputId": "3bf0a381-e4c0-46e0-cc01-83c057b7a11f"
      },
      "execution_count": null,
      "outputs": [
        {
          "output_type": "stream",
          "name": "stderr",
          "text": [
            "<ipython-input-26-eb97b1498562>:14: DeprecationWarning: KerasClassifier is deprecated, use Sci-Keras (https://github.com/adriangb/scikeras) instead. See https://www.adriangb.com/scikeras/stable/migration.html for help migrating.\n",
            "  classifier=KerasClassifier(build_fn=build_classifier,batch_size=10,epochs=100)\n"
          ]
        }
      ]
    },
    {
      "cell_type": "code",
      "source": [
        "print(accuracies)"
      ],
      "metadata": {
        "colab": {
          "base_uri": "https://localhost:8080/"
        },
        "id": "R00pBN43kv0T",
        "outputId": "d1144f32-1950-45da-c3f1-1282ed09d65f"
      },
      "execution_count": null,
      "outputs": [
        {
          "output_type": "stream",
          "name": "stdout",
          "text": [
            "[0.85374999 0.84625    0.8725     0.85250002 0.87374997 0.86624998\n",
            " 0.84875    0.84625    0.84875    0.87124997]\n"
          ]
        }
      ]
    },
    {
      "cell_type": "code",
      "source": [
        "mean=accuracies.mean()\n",
        "variance=accuracies.std()\n",
        "print(mean)\n",
        "print(variance)"
      ],
      "metadata": {
        "colab": {
          "base_uri": "https://localhost:8080/"
        },
        "id": "Cbwq67wBlwEi",
        "outputId": "e177d95e-cd0a-4a5f-9af7-2a67af23db59"
      },
      "execution_count": null,
      "outputs": [
        {
          "output_type": "stream",
          "name": "stdout",
          "text": [
            "0.8579999923706054\n",
            "0.010943026329100254\n"
          ]
        }
      ]
    },
    {
      "cell_type": "code",
      "source": [
        "#improving ANN by introducing dropout layer\n",
        "#tuning ANN by trying out multiple parameters to find the best one\n",
        "#---------------------------"
      ],
      "metadata": {
        "id": "ynI7HxOkov71"
      },
      "execution_count": null,
      "outputs": []
    },
    {
      "cell_type": "code",
      "source": [],
      "metadata": {
        "id": "tX1Cs-5QtlRv"
      },
      "execution_count": null,
      "outputs": []
    }
  ]
}