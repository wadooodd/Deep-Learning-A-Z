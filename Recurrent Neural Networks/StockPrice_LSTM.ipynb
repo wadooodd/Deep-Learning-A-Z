{
  "nbformat": 4,
  "nbformat_minor": 0,
  "metadata": {
    "colab": {
      "provenance": [],
      "gpuType": "T4"
    },
    "kernelspec": {
      "name": "python3",
      "display_name": "Python 3"
    },
    "language_info": {
      "name": "python"
    },
    "accelerator": "GPU"
  },
  "cells": [
    {
      "cell_type": "markdown",
      "source": [
        "#Data Preprocessing"
      ],
      "metadata": {
        "id": "wK72P3yiMNC-"
      }
    },
    {
      "cell_type": "code",
      "source": [
        "import numpy as np\n",
        "import pandas as pd\n",
        "import matplotlib.pyplot as plt"
      ],
      "metadata": {
        "id": "6wObTJYHMRcp"
      },
      "execution_count": 1,
      "outputs": []
    },
    {
      "cell_type": "code",
      "source": [
        "training_set=pd.read_csv(\"/content/Google_Stock_Price_Train.csv\")\n",
        "training_set.head()"
      ],
      "metadata": {
        "colab": {
          "base_uri": "https://localhost:8080/",
          "height": 206
        },
        "id": "RJ2qS3nQMeTm",
        "outputId": "aca1bdcc-75bb-451d-938b-c3be71058f7c"
      },
      "execution_count": 2,
      "outputs": [
        {
          "output_type": "execute_result",
          "data": {
            "text/plain": [
              "       Date    Open    High     Low   Close      Volume\n",
              "0  1/3/2012  325.25  332.83  324.97  663.59   7,380,500\n",
              "1  1/4/2012  331.27  333.87  329.08  666.45   5,749,400\n",
              "2  1/5/2012  329.83  330.75  326.89  657.21   6,590,300\n",
              "3  1/6/2012  328.34  328.77  323.68  648.24   5,405,900\n",
              "4  1/9/2012  322.04  322.29  309.46  620.76  11,688,800"
            ],
            "text/html": [
              "\n",
              "  <div id=\"df-6cf0602a-dcc7-4a9a-b089-b9451b0ae8ae\">\n",
              "    <div class=\"colab-df-container\">\n",
              "      <div>\n",
              "<style scoped>\n",
              "    .dataframe tbody tr th:only-of-type {\n",
              "        vertical-align: middle;\n",
              "    }\n",
              "\n",
              "    .dataframe tbody tr th {\n",
              "        vertical-align: top;\n",
              "    }\n",
              "\n",
              "    .dataframe thead th {\n",
              "        text-align: right;\n",
              "    }\n",
              "</style>\n",
              "<table border=\"1\" class=\"dataframe\">\n",
              "  <thead>\n",
              "    <tr style=\"text-align: right;\">\n",
              "      <th></th>\n",
              "      <th>Date</th>\n",
              "      <th>Open</th>\n",
              "      <th>High</th>\n",
              "      <th>Low</th>\n",
              "      <th>Close</th>\n",
              "      <th>Volume</th>\n",
              "    </tr>\n",
              "  </thead>\n",
              "  <tbody>\n",
              "    <tr>\n",
              "      <th>0</th>\n",
              "      <td>1/3/2012</td>\n",
              "      <td>325.25</td>\n",
              "      <td>332.83</td>\n",
              "      <td>324.97</td>\n",
              "      <td>663.59</td>\n",
              "      <td>7,380,500</td>\n",
              "    </tr>\n",
              "    <tr>\n",
              "      <th>1</th>\n",
              "      <td>1/4/2012</td>\n",
              "      <td>331.27</td>\n",
              "      <td>333.87</td>\n",
              "      <td>329.08</td>\n",
              "      <td>666.45</td>\n",
              "      <td>5,749,400</td>\n",
              "    </tr>\n",
              "    <tr>\n",
              "      <th>2</th>\n",
              "      <td>1/5/2012</td>\n",
              "      <td>329.83</td>\n",
              "      <td>330.75</td>\n",
              "      <td>326.89</td>\n",
              "      <td>657.21</td>\n",
              "      <td>6,590,300</td>\n",
              "    </tr>\n",
              "    <tr>\n",
              "      <th>3</th>\n",
              "      <td>1/6/2012</td>\n",
              "      <td>328.34</td>\n",
              "      <td>328.77</td>\n",
              "      <td>323.68</td>\n",
              "      <td>648.24</td>\n",
              "      <td>5,405,900</td>\n",
              "    </tr>\n",
              "    <tr>\n",
              "      <th>4</th>\n",
              "      <td>1/9/2012</td>\n",
              "      <td>322.04</td>\n",
              "      <td>322.29</td>\n",
              "      <td>309.46</td>\n",
              "      <td>620.76</td>\n",
              "      <td>11,688,800</td>\n",
              "    </tr>\n",
              "  </tbody>\n",
              "</table>\n",
              "</div>\n",
              "      <button class=\"colab-df-convert\" onclick=\"convertToInteractive('df-6cf0602a-dcc7-4a9a-b089-b9451b0ae8ae')\"\n",
              "              title=\"Convert this dataframe to an interactive table.\"\n",
              "              style=\"display:none;\">\n",
              "        \n",
              "  <svg xmlns=\"http://www.w3.org/2000/svg\" height=\"24px\"viewBox=\"0 0 24 24\"\n",
              "       width=\"24px\">\n",
              "    <path d=\"M0 0h24v24H0V0z\" fill=\"none\"/>\n",
              "    <path d=\"M18.56 5.44l.94 2.06.94-2.06 2.06-.94-2.06-.94-.94-2.06-.94 2.06-2.06.94zm-11 1L8.5 8.5l.94-2.06 2.06-.94-2.06-.94L8.5 2.5l-.94 2.06-2.06.94zm10 10l.94 2.06.94-2.06 2.06-.94-2.06-.94-.94-2.06-.94 2.06-2.06.94z\"/><path d=\"M17.41 7.96l-1.37-1.37c-.4-.4-.92-.59-1.43-.59-.52 0-1.04.2-1.43.59L10.3 9.45l-7.72 7.72c-.78.78-.78 2.05 0 2.83L4 21.41c.39.39.9.59 1.41.59.51 0 1.02-.2 1.41-.59l7.78-7.78 2.81-2.81c.8-.78.8-2.07 0-2.86zM5.41 20L4 18.59l7.72-7.72 1.47 1.35L5.41 20z\"/>\n",
              "  </svg>\n",
              "      </button>\n",
              "      \n",
              "  <style>\n",
              "    .colab-df-container {\n",
              "      display:flex;\n",
              "      flex-wrap:wrap;\n",
              "      gap: 12px;\n",
              "    }\n",
              "\n",
              "    .colab-df-convert {\n",
              "      background-color: #E8F0FE;\n",
              "      border: none;\n",
              "      border-radius: 50%;\n",
              "      cursor: pointer;\n",
              "      display: none;\n",
              "      fill: #1967D2;\n",
              "      height: 32px;\n",
              "      padding: 0 0 0 0;\n",
              "      width: 32px;\n",
              "    }\n",
              "\n",
              "    .colab-df-convert:hover {\n",
              "      background-color: #E2EBFA;\n",
              "      box-shadow: 0px 1px 2px rgba(60, 64, 67, 0.3), 0px 1px 3px 1px rgba(60, 64, 67, 0.15);\n",
              "      fill: #174EA6;\n",
              "    }\n",
              "\n",
              "    [theme=dark] .colab-df-convert {\n",
              "      background-color: #3B4455;\n",
              "      fill: #D2E3FC;\n",
              "    }\n",
              "\n",
              "    [theme=dark] .colab-df-convert:hover {\n",
              "      background-color: #434B5C;\n",
              "      box-shadow: 0px 1px 3px 1px rgba(0, 0, 0, 0.15);\n",
              "      filter: drop-shadow(0px 1px 2px rgba(0, 0, 0, 0.3));\n",
              "      fill: #FFFFFF;\n",
              "    }\n",
              "  </style>\n",
              "\n",
              "      <script>\n",
              "        const buttonEl =\n",
              "          document.querySelector('#df-6cf0602a-dcc7-4a9a-b089-b9451b0ae8ae button.colab-df-convert');\n",
              "        buttonEl.style.display =\n",
              "          google.colab.kernel.accessAllowed ? 'block' : 'none';\n",
              "\n",
              "        async function convertToInteractive(key) {\n",
              "          const element = document.querySelector('#df-6cf0602a-dcc7-4a9a-b089-b9451b0ae8ae');\n",
              "          const dataTable =\n",
              "            await google.colab.kernel.invokeFunction('convertToInteractive',\n",
              "                                                     [key], {});\n",
              "          if (!dataTable) return;\n",
              "\n",
              "          const docLinkHtml = 'Like what you see? Visit the ' +\n",
              "            '<a target=\"_blank\" href=https://colab.research.google.com/notebooks/data_table.ipynb>data table notebook</a>'\n",
              "            + ' to learn more about interactive tables.';\n",
              "          element.innerHTML = '';\n",
              "          dataTable['output_type'] = 'display_data';\n",
              "          await google.colab.output.renderOutput(dataTable, element);\n",
              "          const docLink = document.createElement('div');\n",
              "          docLink.innerHTML = docLinkHtml;\n",
              "          element.appendChild(docLink);\n",
              "        }\n",
              "      </script>\n",
              "    </div>\n",
              "  </div>\n",
              "  "
            ]
          },
          "metadata": {},
          "execution_count": 2
        }
      ]
    },
    {
      "cell_type": "code",
      "source": [
        "training_set=training_set.iloc[:,1:2]\n",
        "training_set"
      ],
      "metadata": {
        "colab": {
          "base_uri": "https://localhost:8080/",
          "height": 424
        },
        "id": "_kIAxu7NMnpb",
        "outputId": "603a26a0-73fb-4282-ed70-b337a88bcacf"
      },
      "execution_count": 3,
      "outputs": [
        {
          "output_type": "execute_result",
          "data": {
            "text/plain": [
              "        Open\n",
              "0     325.25\n",
              "1     331.27\n",
              "2     329.83\n",
              "3     328.34\n",
              "4     322.04\n",
              "...      ...\n",
              "1253  790.90\n",
              "1254  790.68\n",
              "1255  793.70\n",
              "1256  783.33\n",
              "1257  782.75\n",
              "\n",
              "[1258 rows x 1 columns]"
            ],
            "text/html": [
              "\n",
              "  <div id=\"df-a9e7bfc7-ed3f-45aa-97ed-e1b2527eeabe\">\n",
              "    <div class=\"colab-df-container\">\n",
              "      <div>\n",
              "<style scoped>\n",
              "    .dataframe tbody tr th:only-of-type {\n",
              "        vertical-align: middle;\n",
              "    }\n",
              "\n",
              "    .dataframe tbody tr th {\n",
              "        vertical-align: top;\n",
              "    }\n",
              "\n",
              "    .dataframe thead th {\n",
              "        text-align: right;\n",
              "    }\n",
              "</style>\n",
              "<table border=\"1\" class=\"dataframe\">\n",
              "  <thead>\n",
              "    <tr style=\"text-align: right;\">\n",
              "      <th></th>\n",
              "      <th>Open</th>\n",
              "    </tr>\n",
              "  </thead>\n",
              "  <tbody>\n",
              "    <tr>\n",
              "      <th>0</th>\n",
              "      <td>325.25</td>\n",
              "    </tr>\n",
              "    <tr>\n",
              "      <th>1</th>\n",
              "      <td>331.27</td>\n",
              "    </tr>\n",
              "    <tr>\n",
              "      <th>2</th>\n",
              "      <td>329.83</td>\n",
              "    </tr>\n",
              "    <tr>\n",
              "      <th>3</th>\n",
              "      <td>328.34</td>\n",
              "    </tr>\n",
              "    <tr>\n",
              "      <th>4</th>\n",
              "      <td>322.04</td>\n",
              "    </tr>\n",
              "    <tr>\n",
              "      <th>...</th>\n",
              "      <td>...</td>\n",
              "    </tr>\n",
              "    <tr>\n",
              "      <th>1253</th>\n",
              "      <td>790.90</td>\n",
              "    </tr>\n",
              "    <tr>\n",
              "      <th>1254</th>\n",
              "      <td>790.68</td>\n",
              "    </tr>\n",
              "    <tr>\n",
              "      <th>1255</th>\n",
              "      <td>793.70</td>\n",
              "    </tr>\n",
              "    <tr>\n",
              "      <th>1256</th>\n",
              "      <td>783.33</td>\n",
              "    </tr>\n",
              "    <tr>\n",
              "      <th>1257</th>\n",
              "      <td>782.75</td>\n",
              "    </tr>\n",
              "  </tbody>\n",
              "</table>\n",
              "<p>1258 rows × 1 columns</p>\n",
              "</div>\n",
              "      <button class=\"colab-df-convert\" onclick=\"convertToInteractive('df-a9e7bfc7-ed3f-45aa-97ed-e1b2527eeabe')\"\n",
              "              title=\"Convert this dataframe to an interactive table.\"\n",
              "              style=\"display:none;\">\n",
              "        \n",
              "  <svg xmlns=\"http://www.w3.org/2000/svg\" height=\"24px\"viewBox=\"0 0 24 24\"\n",
              "       width=\"24px\">\n",
              "    <path d=\"M0 0h24v24H0V0z\" fill=\"none\"/>\n",
              "    <path d=\"M18.56 5.44l.94 2.06.94-2.06 2.06-.94-2.06-.94-.94-2.06-.94 2.06-2.06.94zm-11 1L8.5 8.5l.94-2.06 2.06-.94-2.06-.94L8.5 2.5l-.94 2.06-2.06.94zm10 10l.94 2.06.94-2.06 2.06-.94-2.06-.94-.94-2.06-.94 2.06-2.06.94z\"/><path d=\"M17.41 7.96l-1.37-1.37c-.4-.4-.92-.59-1.43-.59-.52 0-1.04.2-1.43.59L10.3 9.45l-7.72 7.72c-.78.78-.78 2.05 0 2.83L4 21.41c.39.39.9.59 1.41.59.51 0 1.02-.2 1.41-.59l7.78-7.78 2.81-2.81c.8-.78.8-2.07 0-2.86zM5.41 20L4 18.59l7.72-7.72 1.47 1.35L5.41 20z\"/>\n",
              "  </svg>\n",
              "      </button>\n",
              "      \n",
              "  <style>\n",
              "    .colab-df-container {\n",
              "      display:flex;\n",
              "      flex-wrap:wrap;\n",
              "      gap: 12px;\n",
              "    }\n",
              "\n",
              "    .colab-df-convert {\n",
              "      background-color: #E8F0FE;\n",
              "      border: none;\n",
              "      border-radius: 50%;\n",
              "      cursor: pointer;\n",
              "      display: none;\n",
              "      fill: #1967D2;\n",
              "      height: 32px;\n",
              "      padding: 0 0 0 0;\n",
              "      width: 32px;\n",
              "    }\n",
              "\n",
              "    .colab-df-convert:hover {\n",
              "      background-color: #E2EBFA;\n",
              "      box-shadow: 0px 1px 2px rgba(60, 64, 67, 0.3), 0px 1px 3px 1px rgba(60, 64, 67, 0.15);\n",
              "      fill: #174EA6;\n",
              "    }\n",
              "\n",
              "    [theme=dark] .colab-df-convert {\n",
              "      background-color: #3B4455;\n",
              "      fill: #D2E3FC;\n",
              "    }\n",
              "\n",
              "    [theme=dark] .colab-df-convert:hover {\n",
              "      background-color: #434B5C;\n",
              "      box-shadow: 0px 1px 3px 1px rgba(0, 0, 0, 0.15);\n",
              "      filter: drop-shadow(0px 1px 2px rgba(0, 0, 0, 0.3));\n",
              "      fill: #FFFFFF;\n",
              "    }\n",
              "  </style>\n",
              "\n",
              "      <script>\n",
              "        const buttonEl =\n",
              "          document.querySelector('#df-a9e7bfc7-ed3f-45aa-97ed-e1b2527eeabe button.colab-df-convert');\n",
              "        buttonEl.style.display =\n",
              "          google.colab.kernel.accessAllowed ? 'block' : 'none';\n",
              "\n",
              "        async function convertToInteractive(key) {\n",
              "          const element = document.querySelector('#df-a9e7bfc7-ed3f-45aa-97ed-e1b2527eeabe');\n",
              "          const dataTable =\n",
              "            await google.colab.kernel.invokeFunction('convertToInteractive',\n",
              "                                                     [key], {});\n",
              "          if (!dataTable) return;\n",
              "\n",
              "          const docLinkHtml = 'Like what you see? Visit the ' +\n",
              "            '<a target=\"_blank\" href=https://colab.research.google.com/notebooks/data_table.ipynb>data table notebook</a>'\n",
              "            + ' to learn more about interactive tables.';\n",
              "          element.innerHTML = '';\n",
              "          dataTable['output_type'] = 'display_data';\n",
              "          await google.colab.output.renderOutput(dataTable, element);\n",
              "          const docLink = document.createElement('div');\n",
              "          docLink.innerHTML = docLinkHtml;\n",
              "          element.appendChild(docLink);\n",
              "        }\n",
              "      </script>\n",
              "    </div>\n",
              "  </div>\n",
              "  "
            ]
          },
          "metadata": {},
          "execution_count": 3
        }
      ]
    },
    {
      "cell_type": "code",
      "source": [
        "#feature scaling\n",
        "from sklearn.preprocessing import MinMaxScaler\n",
        "sc=MinMaxScaler()\n",
        "training_set=sc.fit_transform(training_set)\n",
        "training_set"
      ],
      "metadata": {
        "colab": {
          "base_uri": "https://localhost:8080/"
        },
        "id": "uyQIbBI7MvNC",
        "outputId": "cd2e85bf-73d6-4675-fda2-c0620389d939"
      },
      "execution_count": 4,
      "outputs": [
        {
          "output_type": "execute_result",
          "data": {
            "text/plain": [
              "array([[0.08581368],\n",
              "       [0.09701243],\n",
              "       [0.09433366],\n",
              "       ...,\n",
              "       [0.95725128],\n",
              "       [0.93796041],\n",
              "       [0.93688146]])"
            ]
          },
          "metadata": {},
          "execution_count": 4
        }
      ]
    },
    {
      "cell_type": "code",
      "source": [
        "#Getting the inputs and outputs\n",
        "#xtrain is input and ytrain is output\n",
        "#for this case, input is stock price at time t and output is stock price at time t+1\n",
        "X_train=training_set[0:1257] #stock price at time t. doesnt include price at last date\n",
        "y_train=training_set[1:1258] #stock price at time t+1.\n",
        "print(\"Input: \",X_train)\n",
        "print(\"Output: \",y_train)"
      ],
      "metadata": {
        "colab": {
          "base_uri": "https://localhost:8080/"
        },
        "id": "zq82p-d2OJgG",
        "outputId": "c2ee775f-ee9a-4403-a795-e915812146f4"
      },
      "execution_count": 5,
      "outputs": [
        {
          "output_type": "stream",
          "name": "stdout",
          "text": [
            "Input:  [[0.08581368]\n",
            " [0.09701243]\n",
            " [0.09433366]\n",
            " ...\n",
            " [0.95163331]\n",
            " [0.95725128]\n",
            " [0.93796041]]\n",
            "Output:  [[0.09701243]\n",
            " [0.09433366]\n",
            " [0.09156187]\n",
            " ...\n",
            " [0.95725128]\n",
            " [0.93796041]\n",
            " [0.93688146]]\n"
          ]
        }
      ]
    },
    {
      "cell_type": "code",
      "source": [
        "#Reshaping\n",
        "#Since the xtrain and ytrain are currently 2D i.e (batch size, input_dim), we have to convert them to keras format which is 3D i.e (batch size,timestamp,input_dim)\n",
        "X_train=np.reshape(X_train,(1257,1,1))"
      ],
      "metadata": {
        "id": "OuAm4PswQg8N"
      },
      "execution_count": 6,
      "outputs": []
    },
    {
      "cell_type": "markdown",
      "source": [
        "#Building the RNN(LSTM)"
      ],
      "metadata": {
        "id": "MYsVGarXlHo5"
      }
    },
    {
      "cell_type": "code",
      "source": [
        "from keras.models import Sequential\n",
        "from keras.layers import Dense\n",
        "from keras.layers import LSTM"
      ],
      "metadata": {
        "id": "FxCVB9-8k_-4"
      },
      "execution_count": 7,
      "outputs": []
    },
    {
      "cell_type": "code",
      "source": [
        "#Initialising the RNN\n",
        "regressor=Sequential()"
      ],
      "metadata": {
        "id": "70rG32f0wNc1"
      },
      "execution_count": 9,
      "outputs": []
    },
    {
      "cell_type": "code",
      "source": [
        "#Adding the input layer and the LSTM layer\n",
        "regressor.add(LSTM(units=4,activation='sigmoid',input_shape=(None,1)))"
      ],
      "metadata": {
        "colab": {
          "base_uri": "https://localhost:8080/"
        },
        "id": "vXFXPTFXwxA3",
        "outputId": "1f7dd490-0a2a-4f58-f7a8-bd9e08ab7de0"
      },
      "execution_count": 10,
      "outputs": [
        {
          "output_type": "stream",
          "name": "stderr",
          "text": [
            "WARNING:tensorflow:Layer lstm will not use cuDNN kernels since it doesn't meet the criteria. It will use a generic GPU kernel as fallback when running on GPU.\n"
          ]
        }
      ]
    },
    {
      "cell_type": "code",
      "source": [
        "#Adding the putput layer\n",
        "regressor.add(Dense(units=1))"
      ],
      "metadata": {
        "id": "omqoXzfZyD62"
      },
      "execution_count": 11,
      "outputs": []
    },
    {
      "cell_type": "code",
      "source": [
        "#Compiling the RNN\n",
        "regressor.compile(optimizer='adam',loss='mean_squared_error')"
      ],
      "metadata": {
        "id": "OBAFkPxuyzOR"
      },
      "execution_count": 12,
      "outputs": []
    },
    {
      "cell_type": "code",
      "source": [
        "#Fitting the RNN to training set\n",
        "regressor.fit(X_train,y_train,batch_size=32,epochs=200)"
      ],
      "metadata": {
        "colab": {
          "base_uri": "https://localhost:8080/"
        },
        "id": "n1yM_iEOzxyR",
        "outputId": "de99e369-f647-40ee-fe1b-4c70d2a8fcf1"
      },
      "execution_count": 13,
      "outputs": [
        {
          "output_type": "stream",
          "name": "stdout",
          "text": [
            "Epoch 1/200\n",
            "40/40 [==============================] - 7s 5ms/step - loss: 0.4764\n",
            "Epoch 2/200\n",
            "40/40 [==============================] - 0s 5ms/step - loss: 0.3546\n",
            "Epoch 3/200\n",
            "40/40 [==============================] - 0s 5ms/step - loss: 0.2620\n",
            "Epoch 4/200\n",
            "40/40 [==============================] - 0s 5ms/step - loss: 0.1935\n",
            "Epoch 5/200\n",
            "40/40 [==============================] - 0s 5ms/step - loss: 0.1453\n",
            "Epoch 6/200\n",
            "40/40 [==============================] - 0s 5ms/step - loss: 0.1127\n",
            "Epoch 7/200\n",
            "40/40 [==============================] - 0s 5ms/step - loss: 0.0914\n",
            "Epoch 8/200\n",
            "40/40 [==============================] - 0s 6ms/step - loss: 0.0782\n",
            "Epoch 9/200\n",
            "40/40 [==============================] - 0s 5ms/step - loss: 0.0704\n",
            "Epoch 10/200\n",
            "40/40 [==============================] - 0s 5ms/step - loss: 0.0657\n",
            "Epoch 11/200\n",
            "40/40 [==============================] - 0s 5ms/step - loss: 0.0629\n",
            "Epoch 12/200\n",
            "40/40 [==============================] - 0s 5ms/step - loss: 0.0611\n",
            "Epoch 13/200\n",
            "40/40 [==============================] - 0s 5ms/step - loss: 0.0598\n",
            "Epoch 14/200\n",
            "40/40 [==============================] - 0s 5ms/step - loss: 0.0587\n",
            "Epoch 15/200\n",
            "40/40 [==============================] - 0s 5ms/step - loss: 0.0577\n",
            "Epoch 16/200\n",
            "40/40 [==============================] - 0s 6ms/step - loss: 0.0568\n",
            "Epoch 17/200\n",
            "40/40 [==============================] - 0s 5ms/step - loss: 0.0558\n",
            "Epoch 18/200\n",
            "40/40 [==============================] - 0s 8ms/step - loss: 0.0549\n",
            "Epoch 19/200\n",
            "40/40 [==============================] - 0s 8ms/step - loss: 0.0538\n",
            "Epoch 20/200\n",
            "40/40 [==============================] - 0s 9ms/step - loss: 0.0528\n",
            "Epoch 21/200\n",
            "40/40 [==============================] - 0s 9ms/step - loss: 0.0518\n",
            "Epoch 22/200\n",
            "40/40 [==============================] - 0s 8ms/step - loss: 0.0507\n",
            "Epoch 23/200\n",
            "40/40 [==============================] - 0s 9ms/step - loss: 0.0497\n",
            "Epoch 24/200\n",
            "40/40 [==============================] - 0s 9ms/step - loss: 0.0486\n",
            "Epoch 25/200\n",
            "40/40 [==============================] - 0s 5ms/step - loss: 0.0475\n",
            "Epoch 26/200\n",
            "40/40 [==============================] - 0s 5ms/step - loss: 0.0463\n",
            "Epoch 27/200\n",
            "40/40 [==============================] - 0s 5ms/step - loss: 0.0452\n",
            "Epoch 28/200\n",
            "40/40 [==============================] - 0s 5ms/step - loss: 0.0440\n",
            "Epoch 29/200\n",
            "40/40 [==============================] - 0s 5ms/step - loss: 0.0428\n",
            "Epoch 30/200\n",
            "40/40 [==============================] - 0s 5ms/step - loss: 0.0416\n",
            "Epoch 31/200\n",
            "40/40 [==============================] - 0s 5ms/step - loss: 0.0404\n",
            "Epoch 32/200\n",
            "40/40 [==============================] - 0s 5ms/step - loss: 0.0392\n",
            "Epoch 33/200\n",
            "40/40 [==============================] - 0s 5ms/step - loss: 0.0380\n",
            "Epoch 34/200\n",
            "40/40 [==============================] - 0s 5ms/step - loss: 0.0367\n",
            "Epoch 35/200\n",
            "40/40 [==============================] - 0s 5ms/step - loss: 0.0355\n",
            "Epoch 36/200\n",
            "40/40 [==============================] - 0s 5ms/step - loss: 0.0343\n",
            "Epoch 37/200\n",
            "40/40 [==============================] - 0s 5ms/step - loss: 0.0330\n",
            "Epoch 38/200\n",
            "40/40 [==============================] - 0s 5ms/step - loss: 0.0317\n",
            "Epoch 39/200\n",
            "40/40 [==============================] - 0s 5ms/step - loss: 0.0305\n",
            "Epoch 40/200\n",
            "40/40 [==============================] - 0s 5ms/step - loss: 0.0292\n",
            "Epoch 41/200\n",
            "40/40 [==============================] - 0s 5ms/step - loss: 0.0279\n",
            "Epoch 42/200\n",
            "40/40 [==============================] - 0s 6ms/step - loss: 0.0267\n",
            "Epoch 43/200\n",
            "40/40 [==============================] - 0s 6ms/step - loss: 0.0255\n",
            "Epoch 44/200\n",
            "40/40 [==============================] - 0s 5ms/step - loss: 0.0242\n",
            "Epoch 45/200\n",
            "40/40 [==============================] - 0s 5ms/step - loss: 0.0230\n",
            "Epoch 46/200\n",
            "40/40 [==============================] - 0s 5ms/step - loss: 0.0218\n",
            "Epoch 47/200\n",
            "40/40 [==============================] - 0s 6ms/step - loss: 0.0206\n",
            "Epoch 48/200\n",
            "40/40 [==============================] - 0s 5ms/step - loss: 0.0194\n",
            "Epoch 49/200\n",
            "40/40 [==============================] - 0s 6ms/step - loss: 0.0182\n",
            "Epoch 50/200\n",
            "40/40 [==============================] - 0s 5ms/step - loss: 0.0171\n",
            "Epoch 51/200\n",
            "40/40 [==============================] - 0s 5ms/step - loss: 0.0160\n",
            "Epoch 52/200\n",
            "40/40 [==============================] - 0s 5ms/step - loss: 0.0149\n",
            "Epoch 53/200\n",
            "40/40 [==============================] - 0s 5ms/step - loss: 0.0138\n",
            "Epoch 54/200\n",
            "40/40 [==============================] - 0s 5ms/step - loss: 0.0128\n",
            "Epoch 55/200\n",
            "40/40 [==============================] - 0s 5ms/step - loss: 0.0118\n",
            "Epoch 56/200\n",
            "40/40 [==============================] - 0s 5ms/step - loss: 0.0109\n",
            "Epoch 57/200\n",
            "40/40 [==============================] - 0s 5ms/step - loss: 0.0100\n",
            "Epoch 58/200\n",
            "40/40 [==============================] - 0s 5ms/step - loss: 0.0092\n",
            "Epoch 59/200\n",
            "40/40 [==============================] - 0s 5ms/step - loss: 0.0084\n",
            "Epoch 60/200\n",
            "40/40 [==============================] - 0s 5ms/step - loss: 0.0076\n",
            "Epoch 61/200\n",
            "40/40 [==============================] - 0s 6ms/step - loss: 0.0069\n",
            "Epoch 62/200\n",
            "40/40 [==============================] - 0s 5ms/step - loss: 0.0062\n",
            "Epoch 63/200\n",
            "40/40 [==============================] - 0s 5ms/step - loss: 0.0056\n",
            "Epoch 64/200\n",
            "40/40 [==============================] - 0s 5ms/step - loss: 0.0050\n",
            "Epoch 65/200\n",
            "40/40 [==============================] - 0s 5ms/step - loss: 0.0045\n",
            "Epoch 66/200\n",
            "40/40 [==============================] - 0s 5ms/step - loss: 0.0040\n",
            "Epoch 67/200\n",
            "40/40 [==============================] - 0s 5ms/step - loss: 0.0035\n",
            "Epoch 68/200\n",
            "40/40 [==============================] - 0s 5ms/step - loss: 0.0031\n",
            "Epoch 69/200\n",
            "40/40 [==============================] - 0s 5ms/step - loss: 0.0028\n",
            "Epoch 70/200\n",
            "40/40 [==============================] - 0s 5ms/step - loss: 0.0024\n",
            "Epoch 71/200\n",
            "40/40 [==============================] - 0s 7ms/step - loss: 0.0021\n",
            "Epoch 72/200\n",
            "40/40 [==============================] - 0s 9ms/step - loss: 0.0019\n",
            "Epoch 73/200\n",
            "40/40 [==============================] - 0s 9ms/step - loss: 0.0017\n",
            "Epoch 74/200\n",
            "40/40 [==============================] - 0s 9ms/step - loss: 0.0015\n",
            "Epoch 75/200\n",
            "40/40 [==============================] - 0s 9ms/step - loss: 0.0013\n",
            "Epoch 76/200\n",
            "40/40 [==============================] - 0s 9ms/step - loss: 0.0011\n",
            "Epoch 77/200\n",
            "40/40 [==============================] - 0s 9ms/step - loss: 0.0010\n",
            "Epoch 78/200\n",
            "40/40 [==============================] - 0s 5ms/step - loss: 8.9065e-04\n",
            "Epoch 79/200\n",
            "40/40 [==============================] - 0s 5ms/step - loss: 7.9553e-04\n",
            "Epoch 80/200\n",
            "40/40 [==============================] - 0s 6ms/step - loss: 7.1683e-04\n",
            "Epoch 81/200\n",
            "40/40 [==============================] - 0s 6ms/step - loss: 6.4948e-04\n",
            "Epoch 82/200\n",
            "40/40 [==============================] - 0s 5ms/step - loss: 5.9451e-04\n",
            "Epoch 83/200\n",
            "40/40 [==============================] - 0s 5ms/step - loss: 5.4905e-04\n",
            "Epoch 84/200\n",
            "40/40 [==============================] - 0s 6ms/step - loss: 5.1131e-04\n",
            "Epoch 85/200\n",
            "40/40 [==============================] - 0s 6ms/step - loss: 4.8075e-04\n",
            "Epoch 86/200\n",
            "40/40 [==============================] - 0s 5ms/step - loss: 4.5586e-04\n",
            "Epoch 87/200\n",
            "40/40 [==============================] - 0s 5ms/step - loss: 4.3583e-04\n",
            "Epoch 88/200\n",
            "40/40 [==============================] - 0s 5ms/step - loss: 4.1888e-04\n",
            "Epoch 89/200\n",
            "40/40 [==============================] - 0s 5ms/step - loss: 4.0682e-04\n",
            "Epoch 90/200\n",
            "40/40 [==============================] - 0s 5ms/step - loss: 3.9537e-04\n",
            "Epoch 91/200\n",
            "40/40 [==============================] - 0s 5ms/step - loss: 3.8720e-04\n",
            "Epoch 92/200\n",
            "40/40 [==============================] - 0s 5ms/step - loss: 3.8053e-04\n",
            "Epoch 93/200\n",
            "40/40 [==============================] - 0s 5ms/step - loss: 3.7473e-04\n",
            "Epoch 94/200\n",
            "40/40 [==============================] - 0s 5ms/step - loss: 3.7054e-04\n",
            "Epoch 95/200\n",
            "40/40 [==============================] - 0s 5ms/step - loss: 3.6690e-04\n",
            "Epoch 96/200\n",
            "40/40 [==============================] - 0s 6ms/step - loss: 3.6348e-04\n",
            "Epoch 97/200\n",
            "40/40 [==============================] - 0s 5ms/step - loss: 3.6077e-04\n",
            "Epoch 98/200\n",
            "40/40 [==============================] - 0s 5ms/step - loss: 3.5858e-04\n",
            "Epoch 99/200\n",
            "40/40 [==============================] - 0s 5ms/step - loss: 3.5736e-04\n",
            "Epoch 100/200\n",
            "40/40 [==============================] - 0s 5ms/step - loss: 3.5523e-04\n",
            "Epoch 101/200\n",
            "40/40 [==============================] - 0s 5ms/step - loss: 3.5365e-04\n",
            "Epoch 102/200\n",
            "40/40 [==============================] - 0s 5ms/step - loss: 3.5213e-04\n",
            "Epoch 103/200\n",
            "40/40 [==============================] - 0s 5ms/step - loss: 3.5129e-04\n",
            "Epoch 104/200\n",
            "40/40 [==============================] - 0s 5ms/step - loss: 3.4973e-04\n",
            "Epoch 105/200\n",
            "40/40 [==============================] - 0s 5ms/step - loss: 3.4924e-04\n",
            "Epoch 106/200\n",
            "40/40 [==============================] - 0s 5ms/step - loss: 3.4805e-04\n",
            "Epoch 107/200\n",
            "40/40 [==============================] - 0s 5ms/step - loss: 3.4659e-04\n",
            "Epoch 108/200\n",
            "40/40 [==============================] - 0s 5ms/step - loss: 3.4592e-04\n",
            "Epoch 109/200\n",
            "40/40 [==============================] - 0s 5ms/step - loss: 3.4450e-04\n",
            "Epoch 110/200\n",
            "40/40 [==============================] - 0s 5ms/step - loss: 3.4313e-04\n",
            "Epoch 111/200\n",
            "40/40 [==============================] - 0s 6ms/step - loss: 3.4342e-04\n",
            "Epoch 112/200\n",
            "40/40 [==============================] - 0s 5ms/step - loss: 3.4127e-04\n",
            "Epoch 113/200\n",
            "40/40 [==============================] - 0s 5ms/step - loss: 3.4051e-04\n",
            "Epoch 114/200\n",
            "40/40 [==============================] - 0s 5ms/step - loss: 3.4003e-04\n",
            "Epoch 115/200\n",
            "40/40 [==============================] - 0s 5ms/step - loss: 3.3774e-04\n",
            "Epoch 116/200\n",
            "40/40 [==============================] - 0s 6ms/step - loss: 3.3741e-04\n",
            "Epoch 117/200\n",
            "40/40 [==============================] - 0s 5ms/step - loss: 3.3649e-04\n",
            "Epoch 118/200\n",
            "40/40 [==============================] - 0s 5ms/step - loss: 3.3377e-04\n",
            "Epoch 119/200\n",
            "40/40 [==============================] - 0s 6ms/step - loss: 3.3341e-04\n",
            "Epoch 120/200\n",
            "40/40 [==============================] - 0s 6ms/step - loss: 3.3231e-04\n",
            "Epoch 121/200\n",
            "40/40 [==============================] - 0s 5ms/step - loss: 3.3221e-04\n",
            "Epoch 122/200\n",
            "40/40 [==============================] - 0s 5ms/step - loss: 3.3019e-04\n",
            "Epoch 123/200\n",
            "40/40 [==============================] - 0s 6ms/step - loss: 3.2834e-04\n",
            "Epoch 124/200\n",
            "40/40 [==============================] - 0s 9ms/step - loss: 3.2932e-04\n",
            "Epoch 125/200\n",
            "40/40 [==============================] - 0s 9ms/step - loss: 3.2604e-04\n",
            "Epoch 126/200\n",
            "40/40 [==============================] - 0s 9ms/step - loss: 3.2898e-04\n",
            "Epoch 127/200\n",
            "40/40 [==============================] - 0s 9ms/step - loss: 3.2466e-04\n",
            "Epoch 128/200\n",
            "40/40 [==============================] - 0s 9ms/step - loss: 3.2512e-04\n",
            "Epoch 129/200\n",
            "40/40 [==============================] - 0s 10ms/step - loss: 3.2203e-04\n",
            "Epoch 130/200\n",
            "40/40 [==============================] - 0s 9ms/step - loss: 3.2052e-04\n",
            "Epoch 131/200\n",
            "40/40 [==============================] - 0s 5ms/step - loss: 3.2022e-04\n",
            "Epoch 132/200\n",
            "40/40 [==============================] - 0s 6ms/step - loss: 3.1806e-04\n",
            "Epoch 133/200\n",
            "40/40 [==============================] - 0s 5ms/step - loss: 3.1723e-04\n",
            "Epoch 134/200\n",
            "40/40 [==============================] - 0s 5ms/step - loss: 3.1721e-04\n",
            "Epoch 135/200\n",
            "40/40 [==============================] - 0s 5ms/step - loss: 3.1435e-04\n",
            "Epoch 136/200\n",
            "40/40 [==============================] - 0s 5ms/step - loss: 3.1437e-04\n",
            "Epoch 137/200\n",
            "40/40 [==============================] - 0s 5ms/step - loss: 3.1357e-04\n",
            "Epoch 138/200\n",
            "40/40 [==============================] - 0s 5ms/step - loss: 3.1125e-04\n",
            "Epoch 139/200\n",
            "40/40 [==============================] - 0s 5ms/step - loss: 3.1067e-04\n",
            "Epoch 140/200\n",
            "40/40 [==============================] - 0s 5ms/step - loss: 3.0956e-04\n",
            "Epoch 141/200\n",
            "40/40 [==============================] - 0s 5ms/step - loss: 3.0758e-04\n",
            "Epoch 142/200\n",
            "40/40 [==============================] - 0s 5ms/step - loss: 3.0766e-04\n",
            "Epoch 143/200\n",
            "40/40 [==============================] - 0s 5ms/step - loss: 3.0711e-04\n",
            "Epoch 144/200\n",
            "40/40 [==============================] - 0s 6ms/step - loss: 3.0633e-04\n",
            "Epoch 145/200\n",
            "40/40 [==============================] - 0s 5ms/step - loss: 3.0445e-04\n",
            "Epoch 146/200\n",
            "40/40 [==============================] - 0s 6ms/step - loss: 3.0249e-04\n",
            "Epoch 147/200\n",
            "40/40 [==============================] - 0s 5ms/step - loss: 3.0251e-04\n",
            "Epoch 148/200\n",
            "40/40 [==============================] - 0s 5ms/step - loss: 3.0292e-04\n",
            "Epoch 149/200\n",
            "40/40 [==============================] - 0s 5ms/step - loss: 2.9994e-04\n",
            "Epoch 150/200\n",
            "40/40 [==============================] - 0s 5ms/step - loss: 2.9785e-04\n",
            "Epoch 151/200\n",
            "40/40 [==============================] - 0s 5ms/step - loss: 2.9869e-04\n",
            "Epoch 152/200\n",
            "40/40 [==============================] - 0s 5ms/step - loss: 2.9606e-04\n",
            "Epoch 153/200\n",
            "40/40 [==============================] - 0s 5ms/step - loss: 2.9631e-04\n",
            "Epoch 154/200\n",
            "40/40 [==============================] - 0s 5ms/step - loss: 2.9598e-04\n",
            "Epoch 155/200\n",
            "40/40 [==============================] - 0s 6ms/step - loss: 2.9860e-04\n",
            "Epoch 156/200\n",
            "40/40 [==============================] - 0s 5ms/step - loss: 2.9259e-04\n",
            "Epoch 157/200\n",
            "40/40 [==============================] - 0s 5ms/step - loss: 2.9234e-04\n",
            "Epoch 158/200\n",
            "40/40 [==============================] - 0s 5ms/step - loss: 2.9137e-04\n",
            "Epoch 159/200\n",
            "40/40 [==============================] - 0s 5ms/step - loss: 2.9041e-04\n",
            "Epoch 160/200\n",
            "40/40 [==============================] - 0s 6ms/step - loss: 2.9150e-04\n",
            "Epoch 161/200\n",
            "40/40 [==============================] - 0s 5ms/step - loss: 2.8644e-04\n",
            "Epoch 162/200\n",
            "40/40 [==============================] - 0s 5ms/step - loss: 2.8653e-04\n",
            "Epoch 163/200\n",
            "40/40 [==============================] - 0s 5ms/step - loss: 2.8645e-04\n",
            "Epoch 164/200\n",
            "40/40 [==============================] - 0s 5ms/step - loss: 2.8664e-04\n",
            "Epoch 165/200\n",
            "40/40 [==============================] - 0s 6ms/step - loss: 2.8715e-04\n",
            "Epoch 166/200\n",
            "40/40 [==============================] - 0s 6ms/step - loss: 2.8364e-04\n",
            "Epoch 167/200\n",
            "40/40 [==============================] - 0s 5ms/step - loss: 2.8326e-04\n",
            "Epoch 168/200\n",
            "40/40 [==============================] - 0s 6ms/step - loss: 2.8250e-04\n",
            "Epoch 169/200\n",
            "40/40 [==============================] - 0s 6ms/step - loss: 2.8137e-04\n",
            "Epoch 170/200\n",
            "40/40 [==============================] - 0s 5ms/step - loss: 2.8377e-04\n",
            "Epoch 171/200\n",
            "40/40 [==============================] - 0s 5ms/step - loss: 2.8153e-04\n",
            "Epoch 172/200\n",
            "40/40 [==============================] - 0s 5ms/step - loss: 2.7813e-04\n",
            "Epoch 173/200\n",
            "40/40 [==============================] - 0s 5ms/step - loss: 2.8153e-04\n",
            "Epoch 174/200\n",
            "40/40 [==============================] - 0s 6ms/step - loss: 2.7782e-04\n",
            "Epoch 175/200\n",
            "40/40 [==============================] - 0s 5ms/step - loss: 2.8150e-04\n",
            "Epoch 176/200\n",
            "40/40 [==============================] - 0s 7ms/step - loss: 2.7979e-04\n",
            "Epoch 177/200\n",
            "40/40 [==============================] - 0s 9ms/step - loss: 2.7408e-04\n",
            "Epoch 178/200\n",
            "40/40 [==============================] - 0s 10ms/step - loss: 2.7346e-04\n",
            "Epoch 179/200\n",
            "40/40 [==============================] - 0s 9ms/step - loss: 2.7755e-04\n",
            "Epoch 180/200\n",
            "40/40 [==============================] - 0s 10ms/step - loss: 2.7301e-04\n",
            "Epoch 181/200\n",
            "40/40 [==============================] - 0s 9ms/step - loss: 2.7422e-04\n",
            "Epoch 182/200\n",
            "40/40 [==============================] - 0s 10ms/step - loss: 2.7190e-04\n",
            "Epoch 183/200\n",
            "40/40 [==============================] - 0s 6ms/step - loss: 2.7114e-04\n",
            "Epoch 184/200\n",
            "40/40 [==============================] - 0s 5ms/step - loss: 2.7249e-04\n",
            "Epoch 185/200\n",
            "40/40 [==============================] - 0s 5ms/step - loss: 2.7169e-04\n",
            "Epoch 186/200\n",
            "40/40 [==============================] - 0s 5ms/step - loss: 2.7230e-04\n",
            "Epoch 187/200\n",
            "40/40 [==============================] - 0s 5ms/step - loss: 2.7166e-04\n",
            "Epoch 188/200\n",
            "40/40 [==============================] - 0s 6ms/step - loss: 2.7073e-04\n",
            "Epoch 189/200\n",
            "40/40 [==============================] - 0s 5ms/step - loss: 2.7191e-04\n",
            "Epoch 190/200\n",
            "40/40 [==============================] - 0s 6ms/step - loss: 2.6760e-04\n",
            "Epoch 191/200\n",
            "40/40 [==============================] - 0s 5ms/step - loss: 2.6811e-04\n",
            "Epoch 192/200\n",
            "40/40 [==============================] - 0s 5ms/step - loss: 2.6565e-04\n",
            "Epoch 193/200\n",
            "40/40 [==============================] - 0s 5ms/step - loss: 2.6981e-04\n",
            "Epoch 194/200\n",
            "40/40 [==============================] - 0s 5ms/step - loss: 2.6879e-04\n",
            "Epoch 195/200\n",
            "40/40 [==============================] - 0s 5ms/step - loss: 2.6610e-04\n",
            "Epoch 196/200\n",
            "40/40 [==============================] - 0s 5ms/step - loss: 2.6860e-04\n",
            "Epoch 197/200\n",
            "40/40 [==============================] - 0s 6ms/step - loss: 2.6543e-04\n",
            "Epoch 198/200\n",
            "40/40 [==============================] - 0s 5ms/step - loss: 2.6551e-04\n",
            "Epoch 199/200\n",
            "40/40 [==============================] - 0s 6ms/step - loss: 2.6358e-04\n",
            "Epoch 200/200\n",
            "40/40 [==============================] - 0s 5ms/step - loss: 2.6610e-04\n"
          ]
        },
        {
          "output_type": "execute_result",
          "data": {
            "text/plain": [
              "<keras.callbacks.History at 0x7fea9c13d480>"
            ]
          },
          "metadata": {},
          "execution_count": 13
        }
      ]
    },
    {
      "cell_type": "markdown",
      "source": [
        "#Making Predictions And Visualizing Results"
      ],
      "metadata": {
        "id": "Grl_OUou0zOd"
      }
    },
    {
      "cell_type": "code",
      "source": [
        "#Getting the real stock price of 2017\n",
        "test_set=pd.read_csv(\"/content/Google_Stock_Price_Test.csv\")\n",
        "real_stock_price=test_set.iloc[:,1:2]\n",
        "real_stock_price"
      ],
      "metadata": {
        "colab": {
          "base_uri": "https://localhost:8080/",
          "height": 677
        },
        "id": "9pRLyCE50S_N",
        "outputId": "fd5460b5-7166-4a71-cfc8-e71c5c5912d2"
      },
      "execution_count": 14,
      "outputs": [
        {
          "output_type": "execute_result",
          "data": {
            "text/plain": [
              "      Open\n",
              "0   778.81\n",
              "1   788.36\n",
              "2   786.08\n",
              "3   795.26\n",
              "4   806.40\n",
              "5   807.86\n",
              "6   805.00\n",
              "7   807.14\n",
              "8   807.48\n",
              "9   807.08\n",
              "10  805.81\n",
              "11  805.12\n",
              "12  806.91\n",
              "13  807.25\n",
              "14  822.30\n",
              "15  829.62\n",
              "16  837.81\n",
              "17  834.71\n",
              "18  814.66\n",
              "19  796.86"
            ],
            "text/html": [
              "\n",
              "  <div id=\"df-30af9953-7be0-4b73-bf38-f0b1689f0018\">\n",
              "    <div class=\"colab-df-container\">\n",
              "      <div>\n",
              "<style scoped>\n",
              "    .dataframe tbody tr th:only-of-type {\n",
              "        vertical-align: middle;\n",
              "    }\n",
              "\n",
              "    .dataframe tbody tr th {\n",
              "        vertical-align: top;\n",
              "    }\n",
              "\n",
              "    .dataframe thead th {\n",
              "        text-align: right;\n",
              "    }\n",
              "</style>\n",
              "<table border=\"1\" class=\"dataframe\">\n",
              "  <thead>\n",
              "    <tr style=\"text-align: right;\">\n",
              "      <th></th>\n",
              "      <th>Open</th>\n",
              "    </tr>\n",
              "  </thead>\n",
              "  <tbody>\n",
              "    <tr>\n",
              "      <th>0</th>\n",
              "      <td>778.81</td>\n",
              "    </tr>\n",
              "    <tr>\n",
              "      <th>1</th>\n",
              "      <td>788.36</td>\n",
              "    </tr>\n",
              "    <tr>\n",
              "      <th>2</th>\n",
              "      <td>786.08</td>\n",
              "    </tr>\n",
              "    <tr>\n",
              "      <th>3</th>\n",
              "      <td>795.26</td>\n",
              "    </tr>\n",
              "    <tr>\n",
              "      <th>4</th>\n",
              "      <td>806.40</td>\n",
              "    </tr>\n",
              "    <tr>\n",
              "      <th>5</th>\n",
              "      <td>807.86</td>\n",
              "    </tr>\n",
              "    <tr>\n",
              "      <th>6</th>\n",
              "      <td>805.00</td>\n",
              "    </tr>\n",
              "    <tr>\n",
              "      <th>7</th>\n",
              "      <td>807.14</td>\n",
              "    </tr>\n",
              "    <tr>\n",
              "      <th>8</th>\n",
              "      <td>807.48</td>\n",
              "    </tr>\n",
              "    <tr>\n",
              "      <th>9</th>\n",
              "      <td>807.08</td>\n",
              "    </tr>\n",
              "    <tr>\n",
              "      <th>10</th>\n",
              "      <td>805.81</td>\n",
              "    </tr>\n",
              "    <tr>\n",
              "      <th>11</th>\n",
              "      <td>805.12</td>\n",
              "    </tr>\n",
              "    <tr>\n",
              "      <th>12</th>\n",
              "      <td>806.91</td>\n",
              "    </tr>\n",
              "    <tr>\n",
              "      <th>13</th>\n",
              "      <td>807.25</td>\n",
              "    </tr>\n",
              "    <tr>\n",
              "      <th>14</th>\n",
              "      <td>822.30</td>\n",
              "    </tr>\n",
              "    <tr>\n",
              "      <th>15</th>\n",
              "      <td>829.62</td>\n",
              "    </tr>\n",
              "    <tr>\n",
              "      <th>16</th>\n",
              "      <td>837.81</td>\n",
              "    </tr>\n",
              "    <tr>\n",
              "      <th>17</th>\n",
              "      <td>834.71</td>\n",
              "    </tr>\n",
              "    <tr>\n",
              "      <th>18</th>\n",
              "      <td>814.66</td>\n",
              "    </tr>\n",
              "    <tr>\n",
              "      <th>19</th>\n",
              "      <td>796.86</td>\n",
              "    </tr>\n",
              "  </tbody>\n",
              "</table>\n",
              "</div>\n",
              "      <button class=\"colab-df-convert\" onclick=\"convertToInteractive('df-30af9953-7be0-4b73-bf38-f0b1689f0018')\"\n",
              "              title=\"Convert this dataframe to an interactive table.\"\n",
              "              style=\"display:none;\">\n",
              "        \n",
              "  <svg xmlns=\"http://www.w3.org/2000/svg\" height=\"24px\"viewBox=\"0 0 24 24\"\n",
              "       width=\"24px\">\n",
              "    <path d=\"M0 0h24v24H0V0z\" fill=\"none\"/>\n",
              "    <path d=\"M18.56 5.44l.94 2.06.94-2.06 2.06-.94-2.06-.94-.94-2.06-.94 2.06-2.06.94zm-11 1L8.5 8.5l.94-2.06 2.06-.94-2.06-.94L8.5 2.5l-.94 2.06-2.06.94zm10 10l.94 2.06.94-2.06 2.06-.94-2.06-.94-.94-2.06-.94 2.06-2.06.94z\"/><path d=\"M17.41 7.96l-1.37-1.37c-.4-.4-.92-.59-1.43-.59-.52 0-1.04.2-1.43.59L10.3 9.45l-7.72 7.72c-.78.78-.78 2.05 0 2.83L4 21.41c.39.39.9.59 1.41.59.51 0 1.02-.2 1.41-.59l7.78-7.78 2.81-2.81c.8-.78.8-2.07 0-2.86zM5.41 20L4 18.59l7.72-7.72 1.47 1.35L5.41 20z\"/>\n",
              "  </svg>\n",
              "      </button>\n",
              "      \n",
              "  <style>\n",
              "    .colab-df-container {\n",
              "      display:flex;\n",
              "      flex-wrap:wrap;\n",
              "      gap: 12px;\n",
              "    }\n",
              "\n",
              "    .colab-df-convert {\n",
              "      background-color: #E8F0FE;\n",
              "      border: none;\n",
              "      border-radius: 50%;\n",
              "      cursor: pointer;\n",
              "      display: none;\n",
              "      fill: #1967D2;\n",
              "      height: 32px;\n",
              "      padding: 0 0 0 0;\n",
              "      width: 32px;\n",
              "    }\n",
              "\n",
              "    .colab-df-convert:hover {\n",
              "      background-color: #E2EBFA;\n",
              "      box-shadow: 0px 1px 2px rgba(60, 64, 67, 0.3), 0px 1px 3px 1px rgba(60, 64, 67, 0.15);\n",
              "      fill: #174EA6;\n",
              "    }\n",
              "\n",
              "    [theme=dark] .colab-df-convert {\n",
              "      background-color: #3B4455;\n",
              "      fill: #D2E3FC;\n",
              "    }\n",
              "\n",
              "    [theme=dark] .colab-df-convert:hover {\n",
              "      background-color: #434B5C;\n",
              "      box-shadow: 0px 1px 3px 1px rgba(0, 0, 0, 0.15);\n",
              "      filter: drop-shadow(0px 1px 2px rgba(0, 0, 0, 0.3));\n",
              "      fill: #FFFFFF;\n",
              "    }\n",
              "  </style>\n",
              "\n",
              "      <script>\n",
              "        const buttonEl =\n",
              "          document.querySelector('#df-30af9953-7be0-4b73-bf38-f0b1689f0018 button.colab-df-convert');\n",
              "        buttonEl.style.display =\n",
              "          google.colab.kernel.accessAllowed ? 'block' : 'none';\n",
              "\n",
              "        async function convertToInteractive(key) {\n",
              "          const element = document.querySelector('#df-30af9953-7be0-4b73-bf38-f0b1689f0018');\n",
              "          const dataTable =\n",
              "            await google.colab.kernel.invokeFunction('convertToInteractive',\n",
              "                                                     [key], {});\n",
              "          if (!dataTable) return;\n",
              "\n",
              "          const docLinkHtml = 'Like what you see? Visit the ' +\n",
              "            '<a target=\"_blank\" href=https://colab.research.google.com/notebooks/data_table.ipynb>data table notebook</a>'\n",
              "            + ' to learn more about interactive tables.';\n",
              "          element.innerHTML = '';\n",
              "          dataTable['output_type'] = 'display_data';\n",
              "          await google.colab.output.renderOutput(dataTable, element);\n",
              "          const docLink = document.createElement('div');\n",
              "          docLink.innerHTML = docLinkHtml;\n",
              "          element.appendChild(docLink);\n",
              "        }\n",
              "      </script>\n",
              "    </div>\n",
              "  </div>\n",
              "  "
            ]
          },
          "metadata": {},
          "execution_count": 14
        }
      ]
    },
    {
      "cell_type": "code",
      "source": [
        "#Getting the predicted stock price of 2017\n",
        "inputs=real_stock_price\n",
        "inputs=sc.transform(real_stock_price)\n",
        "inputs=np.reshape(inputs,(20,1,1))\n",
        "predicted_stock_price=regressor.predict(inputs)\n",
        "predicted_stock_price=sc.inverse_transform(predicted_stock_price)\n",
        "predicted_stock_price"
      ],
      "metadata": {
        "colab": {
          "base_uri": "https://localhost:8080/"
        },
        "id": "BWqr62oL1w5e",
        "outputId": "88ace545-d8e4-420d-a829-bd35735d3838"
      },
      "execution_count": 16,
      "outputs": [
        {
          "output_type": "stream",
          "name": "stdout",
          "text": [
            "1/1 [==============================] - 0s 18ms/step\n"
          ]
        },
        {
          "output_type": "execute_result",
          "data": {
            "text/plain": [
              "array([[772.45264],\n",
              "       [780.62225],\n",
              "       [778.6813 ],\n",
              "       [786.4599 ],\n",
              "       [795.768  ],\n",
              "       [796.9772 ],\n",
              "       [794.60614],\n",
              "       [796.3811 ],\n",
              "       [796.66266],\n",
              "       [796.3315 ],\n",
              "       [795.2786 ],\n",
              "       [794.7058 ],\n",
              "       [796.1907 ],\n",
              "       [796.4722 ],\n",
              "       [808.8    ],\n",
              "       [814.6983 ],\n",
              "       [821.22107],\n",
              "       [818.76166],\n",
              "       [802.57556],\n",
              "       [787.8057 ]], dtype=float32)"
            ]
          },
          "metadata": {},
          "execution_count": 16
        }
      ]
    },
    {
      "cell_type": "code",
      "source": [
        "#Visualizing the results\n",
        "plt.plot(real_stock_price, color='red',label=\"Real Google Stock Price\")\n",
        "plt.plot(predicted_stock_price, color='blue', label=\"Predicted Google Stock Price\")\n",
        "plt.title(\"Google Stock Price Prediction\")\n",
        "plt.xlabel('Time')\n",
        "plt.ylabel('Google Stock Price')\n",
        "plt.legend()\n",
        "plt.show()"
      ],
      "metadata": {
        "colab": {
          "base_uri": "https://localhost:8080/",
          "height": 472
        },
        "id": "6AG4f0c04J9J",
        "outputId": "80dae5c8-a448-4d80-99db-f7de4c7faf01"
      },
      "execution_count": 18,
      "outputs": [
        {
          "output_type": "display_data",
          "data": {
            "text/plain": [
              "<Figure size 640x480 with 1 Axes>"
            ],
            "image/png": "[encoded data removed]"
          },
          "metadata": {}
        }
      ]
    },
    {
      "cell_type": "code",
      "source": [
        "#getting the real stock price of 2012-2016\n",
        "real_stock_price_train=pd.read_csv(\"/content/Google_Stock_Price_Train.csv\")\n",
        "real_stock_price_train=real_stock_price_train.iloc[:,1:2]"
      ],
      "metadata": {
        "id": "Uw-8Eftz653T"
      },
      "execution_count": 25,
      "outputs": []
    },
    {
      "cell_type": "code",
      "source": [
        "#Getting the predicted stock price of year 2012-2016\n",
        "predicted_stock_price_train=regressor.predict(X_train)\n",
        "predicted_stock_price_train=sc.inverse_transform(predicted_stock_price_train)\n",
        "predicted_stock_price_train"
      ],
      "metadata": {
        "colab": {
          "base_uri": "https://localhost:8080/"
        },
        "id": "vF0eB3eGBjIu",
        "outputId": "a73ca0a2-3bda-446b-b7c5-f617143f882b"
      },
      "execution_count": 26,
      "outputs": [
        {
          "output_type": "stream",
          "name": "stdout",
          "text": [
            "40/40 [==============================] - 0s 2ms/step\n"
          ]
        },
        {
          "output_type": "execute_result",
          "data": {
            "text/plain": [
              "array([[323.971  ],\n",
              "       [329.75305],\n",
              "       [328.36743],\n",
              "       ...,\n",
              "       [782.5912 ],\n",
              "       [785.1449 ],\n",
              "       [776.3323 ]], dtype=float32)"
            ]
          },
          "metadata": {},
          "execution_count": 26
        }
      ]
    },
    {
      "cell_type": "code",
      "source": [
        "#Visualizing results\n",
        "plt.plot(real_stock_price_train, color='red',label=\"Real Google Stock Price\")\n",
        "plt.plot(predicted_stock_price_train, color='blue', label=\"Predicted Google Stock Price\")\n",
        "plt.title(\"Google Stock Price Prediction\")\n",
        "plt.xlabel('Time')\n",
        "plt.ylabel('Google Stock Price')\n",
        "plt.legend()\n",
        "plt.show()"
      ],
      "metadata": {
        "colab": {
          "base_uri": "https://localhost:8080/",
          "height": 472
        },
        "id": "3dNFtyf0B3MT",
        "outputId": "1f446664-7c9e-4809-bf15-b8b77cda6120"
      },
      "execution_count": 27,
      "outputs": [
        {
          "output_type": "display_data",
          "data": {
            "text/plain": [
              "<Figure size 640x480 with 1 Axes>"
            ],
            "image/png": "[encoded data removed]"
          },
          "metadata": {}
        }
      ]
    },
    {
      "cell_type": "markdown",
      "source": [
        "#Evaluating RNN"
      ],
      "metadata": {
        "id": "7bIzLDltFUn6"
      }
    },
    {
      "cell_type": "code",
      "source": [
        "import math\n",
        "from sklearn.metrics import mean_squared_error\n",
        "rmse=math.sqrt(mean_squared_error(real_stock_price,predicted_stock_price))"
      ],
      "metadata": {
        "id": "FLPtICwPEgrv"
      },
      "execution_count": 28,
      "outputs": []
    },
    {
      "cell_type": "code",
      "source": [
        "print(rmse)"
      ],
      "metadata": {
        "colab": {
          "base_uri": "https://localhost:8080/"
        },
        "id": "rT1ZMvQGJJ-I",
        "outputId": "42491e11-1c53-4ca1-e0b4-d1371ed23390"
      },
      "execution_count": 29,
      "outputs": [
        {
          "output_type": "stream",
          "name": "stdout",
          "text": [
            "11.2542686674128\n"
          ]
        }
      ]
    },
    {
      "cell_type": "code",
      "source": [
        "rmse/800  #actual stock price values are around 800"
      ],
      "metadata": {
        "colab": {
          "base_uri": "https://localhost:8080/"
        },
        "id": "DKFcubQqJLVx",
        "outputId": "8e1ed523-a3f4-433f-f3c9-2fd09e4c14b8"
      },
      "execution_count": 30,
      "outputs": [
        {
          "output_type": "execute_result",
          "data": {
            "text/plain": [
              "0.014067835834266"
            ]
          },
          "metadata": {},
          "execution_count": 30
        }
      ]
    },
    {
      "cell_type": "code",
      "source": [],
      "metadata": {
        "id": "q4V4tnveJNIi"
      },
      "execution_count": null,
      "outputs": []
    }
  ]
}